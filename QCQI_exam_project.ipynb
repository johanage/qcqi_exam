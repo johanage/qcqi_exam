{
 "cells": [
  {
   "cell_type": "code",
   "execution_count": 1,
   "id": "4f5cbf89-0831-425b-96b0-fb83f95165ab",
   "metadata": {},
   "outputs": [
    {
     "name": "stdout",
     "output_type": "stream",
     "text": [
      "ibmq_qasm_simulator\n",
      "ibmq_armonk\n",
      "ibmq_santiago\n",
      "ibmq_bogota\n",
      "ibmq_lima\n",
      "ibmq_belem\n",
      "ibmq_quito\n",
      "simulator_statevector\n",
      "simulator_mps\n",
      "simulator_extended_stabilizer\n",
      "simulator_stabilizer\n",
      "ibmq_manila\n"
     ]
    }
   ],
   "source": [
    "import numpy as np\n",
    "\n",
    "# Importing standard Qiskit libraries\n",
    "from qiskit import QuantumCircuit, transpile, Aer, IBMQ, execute\n",
    "from qiskit.tools.jupyter import *\n",
    "from qiskit.visualization import *\n",
    "from ibm_quantum_widgets import *\n",
    "from qiskit.providers.aer import QasmSimulator\n",
    "from matplotlib import pyplot as plt\n",
    "import qiskit.providers.aer.noise as noise\n",
    "# Loading your IBM Quantum account(s)\n",
    "provider = IBMQ.load_account()\n",
    "for backend in provider.backends():\n",
    "    print(backend)"
   ]
  },
  {
   "cell_type": "code",
   "execution_count": 2,
   "id": "64016e8e-996b-47b5-9376-cb5a92d2f20e",
   "metadata": {},
   "outputs": [],
   "source": [
    "from qiskit.extensions import UnitaryGate\n",
    "sqrtX = UnitaryGate([[1/np.sqrt(2), -1/np.sqrt(2)*1j], [-1/np.sqrt(2)*1j, 1/np.sqrt(2)]], label='X^1/2')\n",
    "sqrtY = UnitaryGate([[1/np.sqrt(2), -1/np.sqrt(2)], [1/np.sqrt(2), 1/np.sqrt(2)]], label='Y^1/2')\n",
    "sqrtW = UnitaryGate([[1/np.sqrt(2), -1/np.sqrt(2)*np.sqrt(1j)], [1/np.sqrt(2)*np.sqrt(-1j), 1/np.sqrt(2)]], label='W^1/2')"
   ]
  },
  {
   "cell_type": "code",
   "execution_count": 3,
   "id": "0ec6b219-feb3-44ce-bb03-60e29ea1ebf5",
   "metadata": {},
   "outputs": [
    {
     "data": {
      "image/png": "[encoded data removed]",
      "text/plain": [
       "<Figure size 206.997x204.68 with 1 Axes>"
      ]
     },
     "execution_count": 3,
     "metadata": {},
     "output_type": "execute_result"
    }
   ],
   "source": [
    "# test that add gate works\n",
    "qc = QuantumCircuit(3)\n",
    "qc.draw()\n",
    "qc.append(sqrtX, [0])\n",
    "qc.append(sqrtY, [1])\n",
    "qc.append(sqrtW, [2])\n",
    "qc.draw()"
   ]
  },
  {
   "cell_type": "code",
   "execution_count": 4,
   "id": "e65d403c-e316-401e-abee-36c2980024c4",
   "metadata": {},
   "outputs": [],
   "source": [
    "import random\n",
    "def random_gate(num_qubits, operands):\n",
    "    \"\"\"\n",
    "    Args:\n",
    "    - operands - gates to choose from\n",
    "    Out:\n",
    "     - Random unitary gate from operands\n",
    "    \"\"\"\n",
    "    choices = random.choices(population = operands, k = num_qubits)\n",
    "    if len(choices) == 1:\n",
    "        return choices[0]\n",
    "    return choices"
   ]
  },
  {
   "cell_type": "code",
   "execution_count": 5,
   "id": "52a70161-3716-45d0-b348-f3a1296f59ec",
   "metadata": {},
   "outputs": [
    {
     "data": {
      "text/plain": [
       "array([[ 0.70710678+0.j, -0.70710678+0.j],\n",
       "       [ 0.70710678+0.j,  0.70710678+0.j]])"
      ]
     },
     "execution_count": 5,
     "metadata": {},
     "output_type": "execute_result"
    }
   ],
   "source": [
    "std_operands = [sqrtX, sqrtY, sqrtW]\n",
    "rand_gate_test = random_gate(num_qubits = 1, operands= std_operands)\n",
    "rand_gate_test.to_matrix()"
   ]
  },
  {
   "cell_type": "code",
   "execution_count": 6,
   "id": "53e04f3f-3661-4455-8c82-8236f759b2c0",
   "metadata": {},
   "outputs": [],
   "source": [
    "def gen_rqc(num_qubits, depth, operands = std_operands, seed = 2022):\n",
    "    reg = [i for i in range(num_qubits)]\n",
    "    random.seed(seed)\n",
    "    qc = QuantumCircuit(num_qubits)\n",
    "    qc.h([i for i in range(qc.num_qubits)])\n",
    "    choices = [None]*num_qubits\n",
    "    for i in range(depth):\n",
    "        # cz gate layer\n",
    "        for j in range(num_qubits):\n",
    "            choice = random_gate(num_qubits=1, operands = operands)\n",
    "            while choice == choices[j]:\n",
    "                choice = random_gate(num_qubits=1, operands = operands)\n",
    "            choices[j] = choice # store to make sure the same gate does not get chosen two times consequtively\n",
    "            qc.unitary(choice, [j], label = choice.label)\n",
    "        # random gate layer\n",
    "        if i%2 == 0:\n",
    "            igate = np.arange(0,num_qubits-2, 2)\n",
    "            for j in igate: \n",
    "                qc.cz(j, j+1)\n",
    "        else:\n",
    "            igate = np.arange(1,num_qubits-1, 2)\n",
    "            for j in igate:\n",
    "                qc.cz(j, j+1)\n",
    "        qc.barrier()\n",
    "        # for num in k:\n",
    "        #     qc.id(num)\n",
    "                   \n",
    "    return qc\n"
   ]
  },
  {
   "cell_type": "code",
   "execution_count": 7,
   "id": "72bfca35-00be-4869-b4a3-660d9d88d4be",
   "metadata": {},
   "outputs": [
    {
     "data": {
      "text/plain": [
       "\u001b[0;31mSignature:\u001b[0m\n",
       "\u001b[0mqc\u001b[0m\u001b[0;34m.\u001b[0m\u001b[0mbarrier\u001b[0m\u001b[0;34m(\u001b[0m\u001b[0;34m\u001b[0m\n",
       "\u001b[0;34m\u001b[0m    \u001b[0;34m*\u001b[0m\u001b[0mqargs\u001b[0m\u001b[0;34m:\u001b[0m \u001b[0mUnion\u001b[0m\u001b[0;34m[\u001b[0m\u001b[0mqiskit\u001b[0m\u001b[0;34m.\u001b[0m\u001b[0mcircuit\u001b[0m\u001b[0;34m.\u001b[0m\u001b[0mquantumregister\u001b[0m\u001b[0;34m.\u001b[0m\u001b[0mQubit\u001b[0m\u001b[0;34m,\u001b[0m \u001b[0mqiskit\u001b[0m\u001b[0;34m.\u001b[0m\u001b[0mcircuit\u001b[0m\u001b[0;34m.\u001b[0m\u001b[0mquantumregister\u001b[0m\u001b[0;34m.\u001b[0m\u001b[0mQuantumRegister\u001b[0m\u001b[0;34m,\u001b[0m \u001b[0mint\u001b[0m\u001b[0;34m,\u001b[0m \u001b[0mslice\u001b[0m\u001b[0;34m,\u001b[0m \u001b[0mSequence\u001b[0m\u001b[0;34m[\u001b[0m\u001b[0mUnion\u001b[0m\u001b[0;34m[\u001b[0m\u001b[0mqiskit\u001b[0m\u001b[0;34m.\u001b[0m\u001b[0mcircuit\u001b[0m\u001b[0;34m.\u001b[0m\u001b[0mquantumregister\u001b[0m\u001b[0;34m.\u001b[0m\u001b[0mQubit\u001b[0m\u001b[0;34m,\u001b[0m \u001b[0mint\u001b[0m\u001b[0;34m]\u001b[0m\u001b[0;34m]\u001b[0m\u001b[0;34m]\u001b[0m\u001b[0;34m,\u001b[0m\u001b[0;34m\u001b[0m\n",
       "\u001b[0;34m\u001b[0m\u001b[0;34m)\u001b[0m \u001b[0;34m->\u001b[0m \u001b[0mqiskit\u001b[0m\u001b[0;34m.\u001b[0m\u001b[0mcircuit\u001b[0m\u001b[0;34m.\u001b[0m\u001b[0minstructionset\u001b[0m\u001b[0;34m.\u001b[0m\u001b[0mInstructionSet\u001b[0m\u001b[0;34m\u001b[0m\u001b[0;34m\u001b[0m\u001b[0m\n",
       "\u001b[0;31mDocstring:\u001b[0m\n",
       "Apply :class:`~qiskit.circuit.Barrier`. If qargs is empty, applies to all qubits in the\n",
       "circuit.\n",
       "\n",
       "Returns:\n",
       "    qiskit.circuit.InstructionSet: handle to the added instructions.\n",
       "\u001b[0;31mFile:\u001b[0m      /opt/conda/lib/python3.8/site-packages/qiskit/circuit/quantumcircuit.py\n",
       "\u001b[0;31mType:\u001b[0m      method\n"
      ]
     },
     "metadata": {},
     "output_type": "display_data"
    }
   ],
   "source": [
    "qc.barrier?"
   ]
  },
  {
   "cell_type": "code",
   "execution_count": 8,
   "id": "652fba39-84c9-4040-8902-f7f3c25a8cc1",
   "metadata": {},
   "outputs": [
    {
     "data": {
      "image/png": "[encoded data removed]",
      "text/plain": [
       "<Figure size 1621.88x806.68 with 1 Axes>"
      ]
     },
     "execution_count": 8,
     "metadata": {},
     "output_type": "execute_result"
    }
   ],
   "source": [
    "qc5 = gen_rqc(num_qubits=5, depth = 5)\n",
    "qc5.save_statevector()\n",
    "qc5.measure_all()\n",
    "qc5.draw('mpl')"
   ]
  },
  {
   "cell_type": "code",
   "execution_count": 9,
   "id": "517a640d-f8db-467f-aac9-541547e76783",
   "metadata": {},
   "outputs": [],
   "source": [
    "from qiskit.providers.aer import AerSimulator\n",
    "from qiskit.providers.aer.noise import NoiseModel\n",
    "backend = provider.get_backend('ibmq_lima')\n",
    "backend_noise_model = NoiseModel.from_backend(backend)\n",
    "\n",
    "#Create the simulators\n",
    "\n",
    "# Create ideal simulator backend and transpile circuit\n",
    "sim_ideal = AerSimulator()\n",
    "t_qc5 = transpile(qc5, sim_ideal)\n",
    "\n",
    "#Design noise model\n",
    "\n",
    "# Error parameters\n",
    "p1 = 0.005  # damping parameter for single qubit operations\n",
    "p2 = 0.01   # damping parameter for two-qubit operations\n",
    "\n",
    "# Construct the error\n",
    "# Depolarizing quantum errors\n",
    "error_1 = noise.depolarizing_error(p1, 1)\n",
    "error_2 = noise.depolarizing_error(p2, 2)\n",
    "\n",
    "designed_noise_model = noise.NoiseModel()\n",
    "designed_noise_model.add_all_qubit_quantum_error(error_1, ['unitary'])\n",
    "designed_noise_model.add_all_qubit_quantum_error(error_2, ['cz'])\n",
    "\n",
    "# Create noisy simulator backend and transpile circuit\n",
    "sim_noise = AerSimulator(noise_model=designed_noise_model)\n",
    "t_qc5_noisy = transpile(qc5, sim_noise)\n",
    "\n",
    "qc5.measure_all()"
   ]
  },
  {
   "cell_type": "code",
   "execution_count": 10,
   "id": "bbd22571-f176-487f-9abc-1ca36727bcdf",
   "metadata": {},
   "outputs": [],
   "source": [
    "res_noisefree = sim_ideal.run(t_qc5, shots=int(1e5)).result()\n",
    "state = res_noisefree.get_statevector()\n",
    "prob_noisefree = state.probabilities()\n",
    "res_noise = sim_noise.run(t_qc5_noisy, shots=int(1e5)).result()\n"
   ]
  },
  {
   "cell_type": "code",
   "execution_count": 11,
   "id": "67c52ce1-7bcc-4f94-a9af-0784175051f8",
   "metadata": {},
   "outputs": [],
   "source": [
    "import qiskit.quantum_info\n",
    "def prob_getcounts(result, Nshots, qc = None):\n",
    "    totcount = 0\n",
    "    x = result.get_counts()\n",
    "    for state, count in result.get_counts().items():\n",
    "        x[state] = count/Nshots\n",
    "        #x.append(StateVector(state))\n",
    "    return x\n",
    "# check sum of prob equals 1\n",
    "p_noisefree = prob_getcounts(result = res_noisefree, Nshots = int(1e4))\n",
    "p_noisy = prob_getcounts(result = res_noise, Nshots = int(1e4))\n",
    "# p_noisefree"
   ]
  },
  {
   "cell_type": "code",
   "execution_count": 12,
   "id": "9ed4cead-3abc-44d1-b99b-5d4a5df9283b",
   "metadata": {},
   "outputs": [
    {
     "name": "stdout",
     "output_type": "stream",
     "text": [
      "[0.01146742 0.01272406 0.02587891 0.02229339 0.07660266 0.07644948\n",
      " 0.01105101 0.01353307 0.04840925 0.08749803 0.01675474 0.03563016\n",
      " 0.00738171 0.00167552 0.0524543  0.0001963  0.03214279 0.02700865\n",
      " 0.00788437 0.06916839 0.05269125 0.00881781 0.03228159 0.02000516\n",
      " 0.02220961 0.00424135 0.07420438 0.02000516 0.01661594 0.0315851\n",
      " 0.01197008 0.06916839]\n"
     ]
    },
    {
     "data": {
      "text/plain": [
       "(0.8261698504742392, 3.2165660523254878)"
      ]
     },
     "execution_count": 12,
     "metadata": {},
     "output_type": "execute_result"
    }
   ],
   "source": [
    "def compute_entropy(probs):\n",
    "    # print(\"\\n entropy function probs: \", probs)\n",
    "    return - np.sum(probs*np.log(probs))\n",
    "\n",
    "# calculate the cross entropy estimate\n",
    "def cross_entropy(probdict_noisy, probdict_noisefree, num_qubits, euler_const = 0.577):\n",
    "    #calculate the estimate of the fidelity aka cross entropy difference\n",
    "    N = 2**(num_qubits)\n",
    "    H0 = np.log(N) + euler_const\n",
    "    pA = np.array( list( probdict_noisy.values() ) )\n",
    "    pU = np.array( list( probdict_noisefree.values() ) )\n",
    "    H_pA_pU = np.sum( ( (1/N) - pA )*np.log( 1 / pU ) )\n",
    "    alpha = H0 - H_pA_pU\n",
    "    return alpha, H_pA_pU\n",
    "# cross_entropy(probdict_noisy = p_noisy, probdict_noisefree = p_noisefree)\n",
    "\n",
    "# calculate the cross entropy difference estimate\n",
    "def cross_entropy_est(probdict_noisy, pU, num_qubits, euler_const = 0.577):\n",
    "    #calculate the estimate of the fidelity aka cross entropy difference\n",
    "    H0 = np.log(2**(num_qubits)) + euler_const\n",
    "    H_pA_pU = 0\n",
    "    nshots = sum(list(probdict_noisy.values() ))\n",
    "    norm = 0\n",
    "    for key, value in probdict_noisy.items():\n",
    "        ind = int(key.split(\" \")[0], 2) # indices of the bitstrings, have to split between qubits and classical bits\n",
    "        norm += value\n",
    "        H_pA_pU += -value*np.log( pU[ind] )\n",
    "    # print(value)\n",
    "    if norm > 1:\n",
    "        H_pA_pU /= norm\n",
    "    # print(\"norm\", norm)\n",
    "    alpha_CLT = H0 - H_pA_pU\n",
    "    return alpha_CLT, H_pA_pU\n",
    "print(prob_noisefree)\n",
    "cross_entropy_est(probdict_noisy = p_noisy, pU = prob_noisefree, num_qubits=5)"
   ]
  },
  {
   "cell_type": "code",
   "execution_count": 13,
   "id": "09960a63-2f28-4463-bc40-18f2716a6482",
   "metadata": {},
   "outputs": [
    {
     "data": {
      "text/plain": [
       "6.359059213763423e-05"
      ]
     },
     "execution_count": 13,
     "metadata": {},
     "output_type": "execute_result"
    }
   ],
   "source": [
    "# calculate the cross entropy difference estimate\n",
    "def compute_IPRK(probdict_noisfree, pU, num_qubits, k, euler_const = 0.577):\n",
    "    iprk = 0\n",
    "    for key, value in probdict_noisfree.items():\n",
    "        ind = int(key.split(\" \")[0], 2) # indices of the bitstrings, have to split between qubits and classical bits\n",
    "        iprk += np.abs(value* pU[ind] )**(2*k)\n",
    "    return iprk\n",
    "compute_IPRK(probdict_noisfree = p_noisy, pU = prob_noisefree, k = 2, num_qubits=5)"
   ]
  },
  {
   "cell_type": "code",
   "execution_count": 14,
   "id": "98bc8235-99a9-4f57-9bd2-e52d6eeeb6ac",
   "metadata": {},
   "outputs": [
    {
     "data": {
      "text/html": [
       "<div>\n",
       "<style scoped>\n",
       "    .dataframe tbody tr th:only-of-type {\n",
       "        vertical-align: middle;\n",
       "    }\n",
       "\n",
       "    .dataframe tbody tr th {\n",
       "        vertical-align: top;\n",
       "    }\n",
       "\n",
       "    .dataframe thead th {\n",
       "        text-align: right;\n",
       "    }\n",
       "</style>\n",
       "<table border=\"1\" class=\"dataframe\">\n",
       "  <thead>\n",
       "    <tr style=\"text-align: right;\">\n",
       "      <th></th>\n",
       "      <th>ninstance</th>\n",
       "      <th>num_qubits</th>\n",
       "      <th>depth</th>\n",
       "      <th>pU</th>\n",
       "      <th>entropy</th>\n",
       "      <th>cross_entropy</th>\n",
       "      <th>cross_entropy_diff</th>\n",
       "      <th>nshots</th>\n",
       "      <th>IPR2</th>\n",
       "      <th>IPR4</th>\n",
       "      <th>IPR6</th>\n",
       "      <th>IPR8</th>\n",
       "      <th>IPR10</th>\n",
       "    </tr>\n",
       "  </thead>\n",
       "  <tbody>\n",
       "  </tbody>\n",
       "</table>\n",
       "</div>"
      ],
      "text/plain": [
       "Empty DataFrame\n",
       "Columns: [ninstance, num_qubits, depth, pU, entropy, cross_entropy, cross_entropy_diff, nshots, IPR2, IPR4, IPR6, IPR8, IPR10]\n",
       "Index: []"
      ]
     },
     "execution_count": 14,
     "metadata": {},
     "output_type": "execute_result"
    }
   ],
   "source": [
    "import pandas as pd\n",
    "ks = np.arange(2,11,2)\n",
    "df_qs = pd.DataFrame(columns= ['ninstance', 'num_qubits', 'depth', 'pU','entropy','cross_entropy', 'cross_entropy_diff','nshots']+['IPR%i'%k for k in ks])\n",
    "df_qs"
   ]
  },
  {
   "cell_type": "code",
   "execution_count": 15,
   "id": "a80cd6c9-796a-495f-b5ee-5c51e8afba67",
   "metadata": {
    "tags": []
   },
   "outputs": [],
   "source": [
    "# make list of entropy depth pairs\n",
    "def entropy_vs_depth(df = df_qs, r = 0.0005, num_qubits = 15, depth_range = np.arange(20,30,2), Nshots = int(1e4), ninstance = None, ks = None, plot_hist_NpU = False):\n",
    "    N = 2**(num_qubits)\n",
    "    \n",
    "    # get backend and noise model for simulating real hardware\n",
    "    # backend = provider.get_backend('ibmq_lima')\n",
    "    # noise_model = NoiseModel.from_backend(backend)\n",
    "    \n",
    "    for i in range(len(depth_range)):\n",
    "        depth = depth_range[i]\n",
    "        # generate the quantu, circuit\n",
    "        qc = gen_rqc(num_qubits=num_qubits, depth = depth)\n",
    "        qc.save_statevector()\n",
    "        \n",
    "        # Create ideal simulator backend and transpile circuit\n",
    "        sim_ideal = AerSimulator(method='statevector')\n",
    "        # t_qc = transpile(qc, sim_ideal)\n",
    "        \n",
    "        #Design noise model\n",
    "\n",
    "        # Error parameters\n",
    "        rinit = r # error rate for initialisation of the qrc\n",
    "        r1 = r/10 # gate 1 error rate\n",
    "        r2 = r # gate 2 error rate\n",
    "        g1 = depth # number of single qbit gates\n",
    "        g2 = depth # number of 2-qbit gates\n",
    "        rmes = r # error rate for measurements\n",
    "        p1 = r1/3 # prob of applying the error after each single-qubit gate\n",
    "        p2 = r2/15 # prob of applying the error after each two-qubit gate\n",
    "        \n",
    "        # initialise the noise model\n",
    "        designed_noise_model = noise.NoiseModel()\n",
    "        # Construct the error\n",
    "        bit_flip = noise.pauli_error([('X', r), ('I', 1 - r)]) # construct bit-flip error\n",
    "        \n",
    "        # Depolarizing quantum errors\n",
    "        error_1 = noise.depolarizing_error(p1, 1)\n",
    "        error_2 = noise.depolarizing_error(p2, 2)\n",
    "        \n",
    "        designed_noise_model.add_all_qubit_quantum_error(bit_flip, \"reset\")\n",
    "        designed_noise_model.add_all_qubit_quantum_error(error_1, ['unitary'])\n",
    "        designed_noise_model.add_all_qubit_quantum_error(error_2, ['cz'])\n",
    "        designed_noise_model.add_all_qubit_quantum_error(bit_flip, \"measure\")\n",
    "\n",
    "        # Create noisy simulator backend and transpile circuit\n",
    "        sim_noise = AerSimulator(noise_model=designed_noise_model)\n",
    "        # t_qc_noisy = transpile(qc, sim_noise)\n",
    "        \n",
    "        # measure all qubits\n",
    "        qc.measure_all()\n",
    "        \n",
    "        # get probabilites from ideal circuit\n",
    "        result_ideal = sim_ideal.run(qc, shots=Nshots).result()\n",
    "        state = result_ideal.get_statevector()\n",
    "        # print(state.probabilities())\n",
    "        pU = state.probabilities()\n",
    "        # print(probs_ideal)\n",
    "        \n",
    "        # get noisy probabilites\n",
    "        result_noisy = sim_noise.run(qc, shots=Nshots).result()\n",
    "        probs_noisy = list(result_noisy.get_counts(0).values())\n",
    "        # print(probs_noisy)\n",
    "        \n",
    "        #compute entropy\n",
    "        entropy = compute_entropy(probs = np.array(pU))\n",
    "        \n",
    "        #compute cross entropy and cross entropy difference\n",
    "        # print(result_noisy.get_counts(qc))\n",
    "        crentropy_diff, crentropy = cross_entropy_est(probdict_noisy = result_ideal.get_counts(0), pU = pU, num_qubits=num_qubits)\n",
    "        \n",
    "        # compute iprk\n",
    "        IPR_k = [compute_IPRK(probdict_noisfree = result_noisy.get_counts(qc), pU = pU, k = k, num_qubits=num_qubits) for k in ks]\n",
    "        \n",
    "        #append to output        \n",
    "        print([float(IPR_k[ik]) for ik in range(len(ks))])\n",
    "        tempdf = pd.DataFrame([[ninstance, num_qubits, depth, tuple(pU), r, \n",
    "                               entropy, crentropy, crentropy_diff, Nshots] + [IPR_k[ik] for ik in range(len(ks))]], \n",
    "                           columns= ['ninstance', 'num_qubits', 'depth', 'pU', 'r',\n",
    "                                     'entropy','cross_entropy', 'cross_entropy_diff','nshots']+ ['IPR%i'%k for k in ks])\n",
    "        df = pd.concat([df, tempdf])\n",
    "    return df"
   ]
  },
  {
   "cell_type": "code",
   "execution_count": 16,
   "id": "9532d02c-5f0f-4f06-9ce0-7f4674165815",
   "metadata": {},
   "outputs": [
    {
     "data": {
      "text/html": [
       "<div>\n",
       "<style scoped>\n",
       "    .dataframe tbody tr th:only-of-type {\n",
       "        vertical-align: middle;\n",
       "    }\n",
       "\n",
       "    .dataframe tbody tr th {\n",
       "        vertical-align: top;\n",
       "    }\n",
       "\n",
       "    .dataframe thead th {\n",
       "        text-align: right;\n",
       "    }\n",
       "</style>\n",
       "<table border=\"1\" class=\"dataframe\">\n",
       "  <thead>\n",
       "    <tr style=\"text-align: right;\">\n",
       "      <th></th>\n",
       "      <th>ninstance</th>\n",
       "      <th>num_qubits</th>\n",
       "      <th>depth</th>\n",
       "      <th>pU</th>\n",
       "      <th>entropy</th>\n",
       "      <th>cross_entropy</th>\n",
       "      <th>cross_entropy_diff</th>\n",
       "      <th>nshots</th>\n",
       "      <th>IPR2</th>\n",
       "      <th>IPR4</th>\n",
       "      <th>IPR6</th>\n",
       "      <th>IPR8</th>\n",
       "      <th>IPR10</th>\n",
       "    </tr>\n",
       "  </thead>\n",
       "  <tbody>\n",
       "  </tbody>\n",
       "</table>\n",
       "</div>"
      ],
      "text/plain": [
       "Empty DataFrame\n",
       "Columns: [ninstance, num_qubits, depth, pU, entropy, cross_entropy, cross_entropy_diff, nshots, IPR2, IPR4, IPR6, IPR8, IPR10]\n",
       "Index: []"
      ]
     },
     "execution_count": 16,
     "metadata": {},
     "output_type": "execute_result"
    }
   ],
   "source": [
    "dfmaster = pd.DataFrame(columns= ['ninstance', 'num_qubits', 'depth', 'pU','entropy','cross_entropy', 'cross_entropy_diff','nshots']+['IPR%i'%k for k in ks])\n",
    "dfmaster"
   ]
  },
  {
   "cell_type": "code",
   "execution_count": null,
   "id": "bc69a0e5-7d11-4e84-9a2d-3a3a972ffb2f",
   "metadata": {},
   "outputs": [],
   "source": [
    "[2.277032877344497e-11, 1.1755045499310592e-23, 1.2059734918635983e-35, 1.3926227998354163e-47, 1.6868402271641903e-59]\n",
    "[7.672438001712596e-11, 8.565465383663453e-22, 1.8993120639828826e-32, 4.701468505362647e-43, 1.2019776400611612e-53]\n",
    "[5.071877983184607e-11, 1.6316105178655472e-22, 9.033039406838836e-34, 5.6045177986890074e-45, 3.6580695645169923e-56]\n",
    "[2.0826122489189738e-10, 2.4133384570823265e-20, 3.701264324775247e-30, 5.721767676948536e-40, 8.849061367482024e-50]\n",
    "[5.448121159628619e-11, 1.4931140214502132e-22, 7.586650191980494e-34, 4.5168330367511675e-45, 2.9117434277524474e-56]\n",
    "[1.0304117133008804e-10, 3.1538495812353963e-21, 1.622259877722394e-31, 8.714105844518793e-42, 4.719368452138298e-52]\n",
    "[8.055002047900365e-11, 2.767912941683796e-21, 1.4427246087667112e-31, 7.565008725234365e-42, 3.967420947703589e-52]\n",
    "[5.491048445237714e-11, 1.7956743305662727e-22, 1.1669529975012596e-33, 8.647077550564739e-45, 6.68292903772565e-56]\n",
    "[5.8035512788838246e-11, 2.9851073067768206e-22, 2.8185478243174204e-33, 2.9530133769127063e-44, 3.1993184864754387e-55]\n",
    "[3.37154015212217e-11, 5.2004225068156617e-23, 1.8969475557974913e-34, 8.22842328829929e-46, 3.7924980103555794e-57]\n",
    "[3.111063539156623e-11, 3.1570553205533093e-23, 7.17146439303078e-35, 1.9975864101645144e-46, 6.0080628706952614e-58]\n",
    "[7.073495458100128e-11, 7.786556825328159e-22, 1.7374703628924387e-32, 4.302335159566539e-43, 1.0897481941382306e-53]\n",
    "[5.758586868613874e-11, 4.554750788827905e-22, 6.440876812246212e-33, 9.477976885552224e-44, 1.4038917287973936e-54]\n",
    "[3.933820538576763e-11, 7.987547362912083e-23, 3.6626314022127676e-34, 2.020244713982955e-45, 1.1934449004725355e-56]\n",
    "[6.148610301347959e-11, 1.6291968168202963e-22, 8.511967257717543e-34, 5.3525288961181674e-45, 3.6126284606416702e-56]\n",
    "[3.07550066804414e-11, 3.8033632259403213e-23, 1.2700360849675891e-34, 5.416514878115809e-46, 2.480941518595163e-57]\n",
    "[4.934122880429932e-11, 8.462812227524398e-23, 2.384315579665616e-34, 7.371431423380934e-46, 2.357579915641741e-57]\n",
    "[8.175295196533245e-11, 2.769226130514305e-21, 1.4427435794089403e-31, 7.565017846290663e-42, 3.967421338274179e-52]\n",
    "[3.298621566904121e-11, 4.081223643566368e-23, 1.0263486084254563e-34, 3.061886148503098e-46, 9.741263362644908e-58]\n",
    "[5.824954671548351e-11, 3.3532194686528343e-22, 4.1117207689309024e-33, 5.912730559406942e-44, 8.919146872593682e-55]\n",
    "[4.0570650446405294e-11, 6.231340181004659e-23, 2.0701068842312247e-34, 8.1872042486675e-46, 3.434210677109859e-57]\n",
    "[1.0491178703713928e-10, 1.5644377734876852e-21, 4.195365413573877e-32, 1.2732572006848497e-42, 4.051240036083925e-53]\n",
    "[2.5878639493567012e-11, 2.1031341124002338e-23, 4.3654967390783846e-35, 1.140306464976588e-46, 3.265793146743206e-58]\n",
    "[6.45384712020826e-11, 5.310792157841926e-22, 7.468651473557739e-33, 1.1273887043623775e-43, 1.7464957047754785e-54]\n",
    "[4.8748950150567087e-11, 1.6239354203875734e-22, 1.2367876018187666e-33, 1.1423195450407423e-44, 1.121788700412229e-55]\n",
    "[9.024646819650645e-11, 1.3228249812351371e-21, 4.1555257064213834e-32, 1.4098187645677889e-42, 4.839927741642571e-53]\n",
    "[4.934174780452203e-11, 4.0608320041041387e-22, 7.319555359198078e-33, 1.401411325816086e-43, 2.7050100904008385e-54]\n",
    "[4.7931791829642395e-11, 1.7864922243142335e-22, 1.7402596507486286e-33, 1.9743380711200348e-44, 2.309284022274328e-55]\n",
    "[7.715497280676963e-11, 1.1043976129564705e-21, 2.6692063928451057e-32, 7.01351958391523e-43, 1.908093854214636e-53]\n",
    "[2.70214815120765e-11, 2.5280293870020326e-23, 7.374629006970155e-35, 2.7613847225766822e-46, 1.0954905365169607e-57]\n",
    "[8.840271298378654e-11, 2.607952944978336e-21, 1.30447976618429e-31, 6.611802031526899e-42, 3.352668670923144e-52]\n",
    "[3.2137058104213486e-11, 4.2537348105356685e-23, 1.494278290244402e-34, 6.6922070291524396e-46, 3.2254181182229126e-57]\n",
    "[3.7786503045979865e-11, 1.1044693650630503e-22, 8.807468467775986e-34, 7.9859432936084e-45, 7.431121026836978e-56]\n",
    "[2.9726646048019695e-11, 3.476774279003487e-23, 8.397451118112458e-35, 2.2240350057365752e-46, 6.0295138730288315e-58]\n",
    "[3.164160681130319e-11, 5.116114625213606e-23, 2.1427378041199356e-34, 1.0395129056959888e-45, 5.320302429245666e-57]\n",
    "[4.6305026668483696e-11, 1.438385612310708e-22, 8.644752788807539e-34, 5.754435116244502e-45, 4.021052536142673e-56]\n",
    "[5.129254361009586e-11, 2.3833128643680443e-22, 3.218804347007524e-33, 4.713887283054422e-44, 6.941688217263797e-55]\n",
    "[5.6236566883077516e-11, 2.0805704533066173e-22, 1.6170474384093873e-33, 1.4825043291885774e-44, 1.4382668030369394e-55]\n",
    "[4.282304720102767e-11, 1.1319762787375724e-22, 6.055867564042101e-34, 3.705364505564156e-45, 2.388562303672774e-56]\n",
    "[5.860511966886813e-11, 2.264701985556438e-22, 1.8474064376516958e-33, 1.8590748629029183e-44, 2.026854312629682e-55]\n",
    "[4.621662340812567e-11, 1.5443587835862565e-22, 9.545862865570903e-34, 6.415575103088302e-45, 4.449714536082521e-56]\n",
    "[5.3179625275912414e-11, 6.149189718885564e-22, 1.4644475183715446e-32, 3.5764431498374227e-43, 8.745169008606774e-54]\n",
    "[4.3923873407614917e-11, 8.854049404955788e-23, 3.878689575214201e-34, 2.103744077619363e-45, 1.2469570099110082e-56]\n",
    "[5.1193809024243476e-11, 4.745522365233417e-22, 9.385529925988661e-33, 1.9601865497005795e-43, 4.1190839328632466e-54]\n",
    "[3.738371813211184e-11, 7.780054094633571e-23, 4.509726151497569e-34, 3.2017339125741565e-45, 2.3713351040887335e-56]\n",
    "[4.742142183092042e-11, 8.142768805948925e-23, 2.8453992845210283e-34, 1.2856960570915696e-45, 6.571312730995524e-57]\n",
    "[3.307741207719e-11, 1.1106524468379221e-22, 1.019237972276654e-33, 1.0132917752031785e-44, 1.0152535407612638e-55]\n",
    "[5.117246367412846e-11, 1.1660833542731207e-22, 4.95531504101246e-34, 2.459763996205288e-45, 1.3104669555537936e-56]\n",
    "[4.184272472159243e-11, 2.181215691104887e-22, 2.129202948153152e-33, 2.1781304161492839e-44, 2.253483458614968e-55]\n",
    "[4.932987844323886e-11, 2.0618705664607274e-22, 2.173728942205836e-33, 2.676413668149047e-44, 3.390693668428843e-55]\n",
    "[5.3989452482267086e-11, 8.2409833487084585e-22, 2.2736210373679693e-32, 6.4231798020199524e-43, 1.8179483977751579e-53]\n",
    "[3.595454576835151e-11, 8.638312916800002e-23, 5.887645048478951e-34, 4.7342182086016725e-45, 3.902502098100597e-56]\n",
    "[3.528134802353063e-11, 1.1421528808214116e-22, 1.0215748206922778e-33, 1.009031927798159e-44, 1.008632109970166e-55]\n",
    "[4.2583948172059404e-11, 1.2037361538522403e-22, 7.143339213278795e-34, 4.811216822658336e-45, 3.4249200368089474e-56]\n",
    "[5.985364488533791e-11, 1.9963552344767348e-22, 1.2645446047636714e-33, 9.204001372183064e-45, 7.088544683227567e-56]\n",
    "[5.812789662377085e-11, 3.733250388867531e-22, 4.6306653621028064e-33, 6.200977727629766e-44, 8.52643765342439e-55]\n",
    "[3.9558432320055776e-11, 6.048950721766561e-23, 1.944715830350196e-34, 7.562904778118508e-46, 3.207601928331658e-57]\n",
    "[2.347055338773311e-11, 9.533215559727975e-24, 8.425686446653304e-36, 9.108140512869214e-48, 1.0587356349188779e-59]\n",
    "[4.8863817722357907e-11, 1.6383809052564065e-22, 1.4034983185880038e-33, 1.4399522344455082e-44, 1.5430610724972455e-55]\n",
    "[4.8254470966194134e-11, 2.761654181971813e-22, 3.534984670093156e-33, 5.108726396858938e-44, 7.58371519674345e-55]\n",
    "[7.392246319677839e-11, 6.659733531428978e-22, 1.374765211137797e-32, 3.1556193199496487e-43, 7.404667877476874e-54]\n",
    "[4.341352234919223e-11, 5.167773317617715e-22, 1.1465624742476315e-32, 2.5830430658655833e-43, 5.822982592428132e-54]\n",
    "[2.7224441939794056e-11, 3.520625429879764e-23, 1.0367588053435715e-34, 3.526040491498631e-46, 1.2656924124479864e-57]\n",
    "[4.975450832109215e-11, 6.130322702787097e-22, 1.4644786517989835e-32, 3.576491157709583e-43, 8.745184442906005e-54]\n",
    "[4.019424490057705e-11, 1.098060242736369e-22, 7.057188090121109e-34, 5.1773627167513643e-45, 3.953399561406488e-56]\n",
    "[4.474635858815225e-11, 4.632856612588838e-22, 9.362437563848094e-33, 1.959582247627608e-43, 4.118888502809145e-54]\n",
    "[3.2169229666449524e-11, 2.2912205125384658e-23, 3.1889338886772995e-35, 5.365566644394381e-47, 9.88124584278105e-59]\n",
    "[3.860780324991984e-11, 1.016838514710533e-22, 6.097411139145002e-34, 3.9970809300283203e-45, 2.6591329272895655e-56]\n",
    "[2.8053997827200875e-11, 1.8792267097082305e-23, 2.718512714369814e-35, 4.849881947884328e-47, 9.319011399288461e-59]\n",
    "[3.573611734053236e-11, 4.587771532615068e-23, 1.4133496110553061e-34, 5.57999597834652e-46, 2.411072683426338e-57]\n",
    "[3.4791040873793497e-11, 5.458003366874228e-23, 1.663473428720822e-34, 5.6417895971600804e-46, 1.99783712071462e-57]\n",
    "[6.279067165904083e-11, 3.880941051184012e-22, 5.2385803930122874e-33, 8.32282600437418e-44, 1.379875967998122e-54]\n",
    "[5.249595937239261e-11, 2.5874198191166398e-22, 2.83898281861023e-33, 3.606981832402374e-44, 4.797612618221391e-55]\n",
    "[3.632712797684387e-11, 5.89533740734627e-23, 2.132905673120974e-34, 9.02509105744852e-46, 4.066586462172706e-57]\n",
    "[7.638022777749064e-11, 5.313472445040824e-22, 7.166119923886238e-33, 1.1369195535673431e-43, 1.923850301720049e-54]\n",
    "[2.675419566725659e-11, 1.1478016393025016e-23, 1.0640372698758973e-35, 1.2489723647689752e-47, 1.6159681952416343e-59]\n",
    "[4.964069915115805e-11, 4.728060930119658e-22, 9.397099683435795e-33, 1.9612497806937324e-43, 4.119705144008949e-54]\n",
    "[2.5473396365248058e-11, 1.1142831523073664e-23, 9.763920184194053e-36, 1.0639736469172569e-47, 1.2856242926803047e-59]\n",
    "[4.5827085770677503e-11, 1.8346047247588756e-22, 1.9172910674801822e-33, 2.281414926187372e-44, 2.780242925134151e-55]\n",
    "[1.1144654047087733e-10, 6.222649497274731e-21, 4.853209862617895e-31, 3.8122216214889257e-41, 2.9954592984575944e-51]\n",
    "[9.104382584273132e-11, 1.2789650842932437e-21, 3.383249134757077e-32, 9.621430776235913e-43, 2.818978606933721e-53]\n",
    "[1.2632130348494773e-10, 4.017664782898249e-21, 2.3017740557036064e-31, 1.3965434237739123e-41, 8.527197848360132e-52]\n",
    "[4.7365010513585827e-11, 8.627873603331212e-23, 3.0491390458374747e-34, 1.2363026766664366e-45, 5.340084129478808e-57]\n",
    "[4.7562490988942946e-11, 2.07360356842832e-22, 2.3684651939475576e-33, 3.0631015565253945e-44, 4.033283616614659e-55]\n",
    "[4.811415545145679e-11, 3.2948380134852947e-22, 4.94569211184355e-33, 8.095612480070764e-44, 1.3508889999326382e-54]\n",
    "[4.790157889819549e-11, 1.5751555128492339e-22, 1.1896046634700818e-33, 1.0785049200663273e-44, 1.0383339693411828e-55]\n",
    "[3.273242343568321e-11, 3.940013864067887e-23, 9.871239063182014e-35, 2.908140358717666e-46, 9.100602962732473e-58]\n",
    "[6.759437072680637e-11, 1.1486131499167607e-21, 3.6334773349065317e-32, 1.1918973927178498e-42, 3.9313259635085964e-53]\n",
    "[5.5548079492313745e-11, 4.181512478813366e-22, 6.066067048905033e-33, 9.35750830028826e-44, 1.4808043254042225e-54]\n",
    "[3.2868609434798465e-11, 7.049969949739978e-23, 3.2844361837297564e-34, 1.6938033722602356e-45, 8.9634247664611e-57]\n",
    "[2.9423439450781886e-11, 2.780557281355739e-23, 7.222379138873706e-35, 2.4297843363280265e-46, 8.841712131958636e-58]\n",
    "[7.219351709919041e-11, 9.501509613144543e-22, 2.624817115764892e-32, 7.707821260059373e-43, 2.280148675892673e-53]\n",
    "[4.586294152556176e-11, 2.5654495436374643e-22, 3.446542549105625e-33, 5.06806357721673e-44, 7.564386349741479e-55]\n",
    "[3.308406930806618e-11, 4.5004393856121527e-23, 1.9370427979746645e-34, 1.0458867698992053e-45, 5.875050547596175e-57]\n",
    "[2.3409151373310964e-11, 1.1163359467719041e-23, 1.237166015546906e-35, 1.6675214671894707e-47, 2.4114134743222345e-59]\n",
    "[9.766592266158523e-11, 3.1408174835400266e-21, 1.5532413887395823e-31, 8.072022687799495e-42, 4.259520778095802e-52]\n",
    "[3.7146781094736535e-11, 4.93933432883107e-23, 1.6470814565229044e-34, 6.9628078659375016e-46, 3.172416419700073e-57]\n",
    "[2.8152968249982054e-11, 1.7758264928931015e-23, 2.55148471500703e-35, 4.445579266905738e-47, 8.297148952575357e-59]\n",
    "[4.7781593418226645e-11, 1.3411023567288041e-22, 8.201730851840427e-34, 6.123500443682224e-45, 4.946085623190437e-56]\n",
    "[3.583686193181701e-11, 5.044750396633111e-23, 1.6961060345422272e-34, 6.773478495306842e-46, 2.826755172975064e-57]\n",
    "[4.2568680708798164e-11, 8.152404520990691e-23, 3.220729021633099e-34, 1.504369718655833e-45, 7.483077920139165e-57]\n",
    "[2.7063038094064217e-11, 1.9417448692162904e-23, 3.992427105523052e-35, 1.1054763995894407e-46, 3.355595565413674e-58]\n",
    "[1.4884723670766262e-10, 9.656921295281056e-21, 9.054463797382935e-31, 8.700249369204363e-41, 8.393200314895509e-51]\n",
    "[4.7332300497543926e-11, 1.4665651478032083e-22, 1.01698688715564e-33, 8.442673584028177e-45, 7.463018129585061e-56]\n",
    "[4.0875672444233026e-11, 6.962181128857733e-23, 2.5473030615654525e-34, 1.0897719410406083e-45, 4.932248982049696e-57]\n",
    "[3.2436016702275824e-11, 4.3985978604451176e-23, 1.229408396925044e-34, 3.952845253795038e-46, 1.3505937729271004e-57]\n",
    "[3.2564467432059765e-11, 2.9327206466818265e-23, 5.765863099921924e-35, 1.3639503877707153e-46, 3.4134082721409866e-58]\n",
    "[5.312041313616396e-11, 2.062640728245415e-22, 1.706108456236246e-33, 1.5729048441328018e-44, 1.4877115633595706e-55]\n",
    "[3.9992364074369046e-11, 8.228031531955757e-23, 4.458619280597842e-34, 3.004292191580669e-45, 2.1474306028663095e-56]\n",
    "[3.4588347953245874e-11, 3.6858470621101714e-23, 9.885002994609964e-35, 3.441512185345934e-46, 1.3233506413274854e-57]"
   ]
  },
  {
   "cell_type": "code",
   "execution_count": null,
   "id": "61e42d11-f4fd-4943-8a84-acf92929f2e8",
   "metadata": {},
   "outputs": [
    {
     "name": "stdout",
     "output_type": "stream",
     "text": [
      "[2.277032877344497e-11, 1.1755045499310592e-23, 1.2059734918635983e-35, 1.3926227998354163e-47, 1.6868402271641903e-59]\n",
      "[7.672438001712596e-11, 8.565465383663453e-22, 1.8993120639828826e-32, 4.701468505362647e-43, 1.2019776400611612e-53]\n",
      "[5.071877983184607e-11, 1.6316105178655472e-22, 9.033039406838836e-34, 5.6045177986890074e-45, 3.6580695645169923e-56]\n",
      "[2.0826122489189738e-10, 2.4133384570823265e-20, 3.701264324775247e-30, 5.721767676948536e-40, 8.849061367482024e-50]\n",
      "[5.448121159628619e-11, 1.4931140214502132e-22, 7.586650191980494e-34, 4.5168330367511675e-45, 2.9117434277524474e-56]\n",
      "[1.0304117133008804e-10, 3.1538495812353963e-21, 1.622259877722394e-31, 8.714105844518793e-42, 4.719368452138298e-52]\n",
      "[8.055002047900365e-11, 2.767912941683796e-21, 1.4427246087667112e-31, 7.565008725234365e-42, 3.967420947703589e-52]\n",
      "[5.491048445237714e-11, 1.7956743305662727e-22, 1.1669529975012596e-33, 8.647077550564739e-45, 6.68292903772565e-56]\n",
      "[5.8035512788838246e-11, 2.9851073067768206e-22, 2.8185478243174204e-33, 2.9530133769127063e-44, 3.1993184864754387e-55]\n",
      "[3.37154015212217e-11, 5.2004225068156617e-23, 1.8969475557974913e-34, 8.22842328829929e-46, 3.7924980103555794e-57]\n",
      "[3.111063539156623e-11, 3.1570553205533093e-23, 7.17146439303078e-35, 1.9975864101645144e-46, 6.0080628706952614e-58]\n",
      "[7.073495458100128e-11, 7.786556825328159e-22, 1.7374703628924387e-32, 4.302335159566539e-43, 1.0897481941382306e-53]\n",
      "[5.758586868613874e-11, 4.554750788827905e-22, 6.440876812246212e-33, 9.477976885552224e-44, 1.4038917287973936e-54]\n",
      "[3.933820538576763e-11, 7.987547362912083e-23, 3.6626314022127676e-34, 2.020244713982955e-45, 1.1934449004725355e-56]\n",
      "[6.148610301347959e-11, 1.6291968168202963e-22, 8.511967257717543e-34, 5.3525288961181674e-45, 3.6126284606416702e-56]\n",
      "[3.07550066804414e-11, 3.8033632259403213e-23, 1.2700360849675891e-34, 5.416514878115809e-46, 2.480941518595163e-57]\n",
      "[4.934122880429932e-11, 8.462812227524398e-23, 2.384315579665616e-34, 7.371431423380934e-46, 2.357579915641741e-57]\n",
      "[8.175295196533245e-11, 2.769226130514305e-21, 1.4427435794089403e-31, 7.565017846290663e-42, 3.967421338274179e-52]\n",
      "[3.298621566904121e-11, 4.081223643566368e-23, 1.0263486084254563e-34, 3.061886148503098e-46, 9.741263362644908e-58]\n",
      "[5.824954671548351e-11, 3.3532194686528343e-22, 4.1117207689309024e-33, 5.912730559406942e-44, 8.919146872593682e-55]\n",
      "[4.0570650446405294e-11, 6.231340181004659e-23, 2.0701068842312247e-34, 8.1872042486675e-46, 3.434210677109859e-57]\n",
      "[1.0491178703713928e-10, 1.5644377734876852e-21, 4.195365413573877e-32, 1.2732572006848497e-42, 4.051240036083925e-53]\n",
      "[2.5878639493567012e-11, 2.1031341124002338e-23, 4.3654967390783846e-35, 1.140306464976588e-46, 3.265793146743206e-58]\n",
      "[6.45384712020826e-11, 5.310792157841926e-22, 7.468651473557739e-33, 1.1273887043623775e-43, 1.7464957047754785e-54]\n",
      "[4.8748950150567087e-11, 1.6239354203875734e-22, 1.2367876018187666e-33, 1.1423195450407423e-44, 1.121788700412229e-55]\n",
      "[9.024646819650645e-11, 1.3228249812351371e-21, 4.1555257064213834e-32, 1.4098187645677889e-42, 4.839927741642571e-53]\n",
      "[4.934174780452203e-11, 4.0608320041041387e-22, 7.319555359198078e-33, 1.401411325816086e-43, 2.7050100904008385e-54]\n",
      "[4.7931791829642395e-11, 1.7864922243142335e-22, 1.7402596507486286e-33, 1.9743380711200348e-44, 2.309284022274328e-55]\n",
      "[7.715497280676963e-11, 1.1043976129564705e-21, 2.6692063928451057e-32, 7.01351958391523e-43, 1.908093854214636e-53]\n",
      "[2.70214815120765e-11, 2.5280293870020326e-23, 7.374629006970155e-35, 2.7613847225766822e-46, 1.0954905365169607e-57]\n",
      "[8.840271298378654e-11, 2.607952944978336e-21, 1.30447976618429e-31, 6.611802031526899e-42, 3.352668670923144e-52]\n",
      "[3.2137058104213486e-11, 4.2537348105356685e-23, 1.494278290244402e-34, 6.6922070291524396e-46, 3.2254181182229126e-57]\n",
      "[3.7786503045979865e-11, 1.1044693650630503e-22, 8.807468467775986e-34, 7.9859432936084e-45, 7.431121026836978e-56]\n",
      "[2.9726646048019695e-11, 3.476774279003487e-23, 8.397451118112458e-35, 2.2240350057365752e-46, 6.0295138730288315e-58]\n",
      "[3.164160681130319e-11, 5.116114625213606e-23, 2.1427378041199356e-34, 1.0395129056959888e-45, 5.320302429245666e-57]\n",
      "[4.6305026668483696e-11, 1.438385612310708e-22, 8.644752788807539e-34, 5.754435116244502e-45, 4.021052536142673e-56]\n",
      "[5.129254361009586e-11, 2.3833128643680443e-22, 3.218804347007524e-33, 4.713887283054422e-44, 6.941688217263797e-55]\n",
      "[5.6236566883077516e-11, 2.0805704533066173e-22, 1.6170474384093873e-33, 1.4825043291885774e-44, 1.4382668030369394e-55]\n",
      "[4.282304720102767e-11, 1.1319762787375724e-22, 6.055867564042101e-34, 3.705364505564156e-45, 2.388562303672774e-56]\n",
      "[5.860511966886813e-11, 2.264701985556438e-22, 1.8474064376516958e-33, 1.8590748629029183e-44, 2.026854312629682e-55]\n",
      "[4.621662340812567e-11, 1.5443587835862565e-22, 9.545862865570903e-34, 6.415575103088302e-45, 4.449714536082521e-56]\n",
      "[5.3179625275912414e-11, 6.149189718885564e-22, 1.4644475183715446e-32, 3.5764431498374227e-43, 8.745169008606774e-54]\n",
      "[4.3923873407614917e-11, 8.854049404955788e-23, 3.878689575214201e-34, 2.103744077619363e-45, 1.2469570099110082e-56]\n",
      "[5.1193809024243476e-11, 4.745522365233417e-22, 9.385529925988661e-33, 1.9601865497005795e-43, 4.1190839328632466e-54]\n",
      "[3.738371813211184e-11, 7.780054094633571e-23, 4.509726151497569e-34, 3.2017339125741565e-45, 2.3713351040887335e-56]\n",
      "[4.742142183092042e-11, 8.142768805948925e-23, 2.8453992845210283e-34, 1.2856960570915696e-45, 6.571312730995524e-57]\n",
      "[3.307741207719e-11, 1.1106524468379221e-22, 1.019237972276654e-33, 1.0132917752031785e-44, 1.0152535407612638e-55]\n",
      "[5.117246367412846e-11, 1.1660833542731207e-22, 4.95531504101246e-34, 2.459763996205288e-45, 1.3104669555537936e-56]\n",
      "[4.184272472159243e-11, 2.181215691104887e-22, 2.129202948153152e-33, 2.1781304161492839e-44, 2.253483458614968e-55]\n",
      "[4.932987844323886e-11, 2.0618705664607274e-22, 2.173728942205836e-33, 2.676413668149047e-44, 3.390693668428843e-55]\n",
      "[5.3989452482267086e-11, 8.2409833487084585e-22, 2.2736210373679693e-32, 6.4231798020199524e-43, 1.8179483977751579e-53]\n",
      "[3.595454576835151e-11, 8.638312916800002e-23, 5.887645048478951e-34, 4.7342182086016725e-45, 3.902502098100597e-56]\n",
      "[3.528134802353063e-11, 1.1421528808214116e-22, 1.0215748206922778e-33, 1.009031927798159e-44, 1.008632109970166e-55]\n",
      "[4.2583948172059404e-11, 1.2037361538522403e-22, 7.143339213278795e-34, 4.811216822658336e-45, 3.4249200368089474e-56]\n",
      "[5.985364488533791e-11, 1.9963552344767348e-22, 1.2645446047636714e-33, 9.204001372183064e-45, 7.088544683227567e-56]\n",
      "[5.812789662377085e-11, 3.733250388867531e-22, 4.6306653621028064e-33, 6.200977727629766e-44, 8.52643765342439e-55]\n",
      "[3.9558432320055776e-11, 6.048950721766561e-23, 1.944715830350196e-34, 7.562904778118508e-46, 3.207601928331658e-57]\n",
      "[2.347055338773311e-11, 9.533215559727975e-24, 8.425686446653304e-36, 9.108140512869214e-48, 1.0587356349188779e-59]\n",
      "[4.8863817722357907e-11, 1.6383809052564065e-22, 1.4034983185880038e-33, 1.4399522344455082e-44, 1.5430610724972455e-55]\n",
      "[4.8254470966194134e-11, 2.761654181971813e-22, 3.534984670093156e-33, 5.108726396858938e-44, 7.58371519674345e-55]\n",
      "[7.392246319677839e-11, 6.659733531428978e-22, 1.374765211137797e-32, 3.1556193199496487e-43, 7.404667877476874e-54]\n",
      "[4.341352234919223e-11, 5.167773317617715e-22, 1.1465624742476315e-32, 2.5830430658655833e-43, 5.822982592428132e-54]\n",
      "[2.7224441939794056e-11, 3.520625429879764e-23, 1.0367588053435715e-34, 3.526040491498631e-46, 1.2656924124479864e-57]\n",
      "[4.975450832109215e-11, 6.130322702787097e-22, 1.4644786517989835e-32, 3.576491157709583e-43, 8.745184442906005e-54]\n",
      "[4.019424490057705e-11, 1.098060242736369e-22, 7.057188090121109e-34, 5.1773627167513643e-45, 3.953399561406488e-56]\n",
      "[4.474635858815225e-11, 4.632856612588838e-22, 9.362437563848094e-33, 1.959582247627608e-43, 4.118888502809145e-54]\n",
      "[3.2169229666449524e-11, 2.2912205125384658e-23, 3.1889338886772995e-35, 5.365566644394381e-47, 9.88124584278105e-59]\n",
      "[3.860780324991984e-11, 1.016838514710533e-22, 6.097411139145002e-34, 3.9970809300283203e-45, 2.6591329272895655e-56]\n",
      "[2.8053997827200875e-11, 1.8792267097082305e-23, 2.718512714369814e-35, 4.849881947884328e-47, 9.319011399288461e-59]\n",
      "[3.573611734053236e-11, 4.587771532615068e-23, 1.4133496110553061e-34, 5.57999597834652e-46, 2.411072683426338e-57]\n",
      "[3.4791040873793497e-11, 5.458003366874228e-23, 1.663473428720822e-34, 5.6417895971600804e-46, 1.99783712071462e-57]\n",
      "[6.279067165904083e-11, 3.880941051184012e-22, 5.2385803930122874e-33, 8.32282600437418e-44, 1.379875967998122e-54]\n",
      "[5.249595937239261e-11, 2.5874198191166398e-22, 2.83898281861023e-33, 3.606981832402374e-44, 4.797612618221391e-55]\n",
      "[3.632712797684387e-11, 5.89533740734627e-23, 2.132905673120974e-34, 9.02509105744852e-46, 4.066586462172706e-57]\n",
      "[7.638022777749064e-11, 5.313472445040824e-22, 7.166119923886238e-33, 1.1369195535673431e-43, 1.923850301720049e-54]\n",
      "[2.675419566725659e-11, 1.1478016393025016e-23, 1.0640372698758973e-35, 1.2489723647689752e-47, 1.6159681952416343e-59]\n",
      "[4.964069915115805e-11, 4.728060930119658e-22, 9.397099683435795e-33, 1.9612497806937324e-43, 4.119705144008949e-54]\n",
      "[2.5473396365248058e-11, 1.1142831523073664e-23, 9.763920184194053e-36, 1.0639736469172569e-47, 1.2856242926803047e-59]\n",
      "[4.5827085770677503e-11, 1.8346047247588756e-22, 1.9172910674801822e-33, 2.281414926187372e-44, 2.780242925134151e-55]\n",
      "[1.1144654047087733e-10, 6.222649497274731e-21, 4.853209862617895e-31, 3.8122216214889257e-41, 2.9954592984575944e-51]\n",
      "[9.104382584273132e-11, 1.2789650842932437e-21, 3.383249134757077e-32, 9.621430776235913e-43, 2.818978606933721e-53]\n",
      "[1.2632130348494773e-10, 4.017664782898249e-21, 2.3017740557036064e-31, 1.3965434237739123e-41, 8.527197848360132e-52]\n",
      "[4.7365010513585827e-11, 8.627873603331212e-23, 3.0491390458374747e-34, 1.2363026766664366e-45, 5.340084129478808e-57]\n",
      "[4.7562490988942946e-11, 2.07360356842832e-22, 2.3684651939475576e-33, 3.0631015565253945e-44, 4.033283616614659e-55]\n",
      "[4.811415545145679e-11, 3.2948380134852947e-22, 4.94569211184355e-33, 8.095612480070764e-44, 1.3508889999326382e-54]\n",
      "[4.790157889819549e-11, 1.5751555128492339e-22, 1.1896046634700818e-33, 1.0785049200663273e-44, 1.0383339693411828e-55]\n",
      "[3.273242343568321e-11, 3.940013864067887e-23, 9.871239063182014e-35, 2.908140358717666e-46, 9.100602962732473e-58]\n",
      "[6.759437072680637e-11, 1.1486131499167607e-21, 3.6334773349065317e-32, 1.1918973927178498e-42, 3.9313259635085964e-53]\n",
      "[5.5548079492313745e-11, 4.181512478813366e-22, 6.066067048905033e-33, 9.35750830028826e-44, 1.4808043254042225e-54]\n",
      "[3.2868609434798465e-11, 7.049969949739978e-23, 3.2844361837297564e-34, 1.6938033722602356e-45, 8.9634247664611e-57]\n",
      "[2.9423439450781886e-11, 2.780557281355739e-23, 7.222379138873706e-35, 2.4297843363280265e-46, 8.841712131958636e-58]\n",
      "[7.219351709919041e-11, 9.501509613144543e-22, 2.624817115764892e-32, 7.707821260059373e-43, 2.280148675892673e-53]\n",
      "[4.586294152556176e-11, 2.5654495436374643e-22, 3.446542549105625e-33, 5.06806357721673e-44, 7.564386349741479e-55]\n",
      "[3.308406930806618e-11, 4.5004393856121527e-23, 1.9370427979746645e-34, 1.0458867698992053e-45, 5.875050547596175e-57]\n",
      "[2.3409151373310964e-11, 1.1163359467719041e-23, 1.237166015546906e-35, 1.6675214671894707e-47, 2.4114134743222345e-59]\n",
      "[9.766592266158523e-11, 3.1408174835400266e-21, 1.5532413887395823e-31, 8.072022687799495e-42, 4.259520778095802e-52]\n",
      "[3.7146781094736535e-11, 4.93933432883107e-23, 1.6470814565229044e-34, 6.9628078659375016e-46, 3.172416419700073e-57]\n",
      "[2.8152968249982054e-11, 1.7758264928931015e-23, 2.55148471500703e-35, 4.445579266905738e-47, 8.297148952575357e-59]\n",
      "[4.7781593418226645e-11, 1.3411023567288041e-22, 8.201730851840427e-34, 6.123500443682224e-45, 4.946085623190437e-56]\n",
      "[3.583686193181701e-11, 5.044750396633111e-23, 1.6961060345422272e-34, 6.773478495306842e-46, 2.826755172975064e-57]\n",
      "[4.2568680708798164e-11, 8.152404520990691e-23, 3.220729021633099e-34, 1.504369718655833e-45, 7.483077920139165e-57]\n",
      "[2.7063038094064217e-11, 1.9417448692162904e-23, 3.992427105523052e-35, 1.1054763995894407e-46, 3.355595565413674e-58]\n",
      "[1.4884723670766262e-10, 9.656921295281056e-21, 9.054463797382935e-31, 8.700249369204363e-41, 8.393200314895509e-51]\n",
      "[4.7332300497543926e-11, 1.4665651478032083e-22, 1.01698688715564e-33, 8.442673584028177e-45, 7.463018129585061e-56]\n",
      "[4.0875672444233026e-11, 6.962181128857733e-23, 2.5473030615654525e-34, 1.0897719410406083e-45, 4.932248982049696e-57]\n",
      "[3.2436016702275824e-11, 4.3985978604451176e-23, 1.229408396925044e-34, 3.952845253795038e-46, 1.3505937729271004e-57]\n",
      "[3.2564467432059765e-11, 2.9327206466818265e-23, 5.765863099921924e-35, 1.3639503877707153e-46, 3.4134082721409866e-58]\n",
      "[5.312041313616396e-11, 2.062640728245415e-22, 1.706108456236246e-33, 1.5729048441328018e-44, 1.4877115633595706e-55]\n",
      "[3.9992364074369046e-11, 8.228031531955757e-23, 4.458619280597842e-34, 3.004292191580669e-45, 2.1474306028663095e-56]\n",
      "[3.4588347953245874e-11, 3.6858470621101714e-23, 9.885002994609964e-35, 3.441512185345934e-46, 1.3233506413274854e-57]\n"
     ]
    }
   ],
   "source": [
    "depth_range = np.arange(20,41,2)\n",
    "rs = np.array([0, 0.0005, 0.001, 0.002, 0.005])\n",
    "Ninstances = 10\n",
    "shape = rs.shape + (Ninstances,) + depth_range.shape\n",
    "depth5, cross_entropy5, cross_entropy_diff5, IPRK5, entropy5 = np.zeros(shape), np.zeros(shape), np.zeros(shape), np.zeros(rs.shape + (Ninstances,)+ ks.shape +depth_range.shape), np.zeros(shape)\n",
    "\n",
    "for j in range(len(rs)):\n",
    "    r = rs[j]\n",
    "    for i in range(Ninstances):\n",
    "        df_qs = entropy_vs_depth(r = r, depth_range = depth_range, ks=ks, ninstance = i)\n",
    "        dfmaster = pd.concat([dfmaster, df_qs])"
   ]
  },
  {
   "cell_type": "code",
   "execution_count": 23,
   "id": "0a5f9292-5cfd-4499-8a26-60610dcc0dbb",
   "metadata": {},
   "outputs": [
    {
     "data": {
      "text/plain": [
       "490.3899222666713"
      ]
     },
     "execution_count": 23,
     "metadata": {},
     "output_type": "execute_result"
    }
   ],
   "source": [
    "def compute_yaxis_iprk(iprk):\n",
    "    # for such a large number it is more convenient to use the logarithm\n",
    "    lognumber = 15*9*np.log(2)/sum([np.log(i) for i in range(1,11)])\n",
    "    return np.exp(lognumber)"
   ]
  },
  {
   "cell_type": "code",
   "execution_count": null,
   "id": "e845ddfa-65c7-4c78-b6d4-a14f853a2e09",
   "metadata": {},
   "outputs": [],
   "source": [
    "dfmaster"
   ]
  },
  {
   "cell_type": "code",
   "execution_count": 20,
   "id": "76550fca-cb28-4ba6-bd79-a76641bcf4db",
   "metadata": {},
   "outputs": [],
   "source": [
    "def paperplots(depth, iprk, ce, ced, e):\n",
    "    print(iprk.shape)\n",
    "    plt.figure()\n",
    "    for i in range(len(iprk)):\n",
    "        plt.plot(depth, iprk[i]*(2**(5))**(i+1)/np.math.factorial(i+2), '-o', label = '$k = %i$'%(i+2)) # *2**(5)**(i+2)/np.math.factorial(i+2) - get too large number\n",
    "        plt.yscale('log')\n",
    "        plt.xlabel(\"Depth\")\n",
    "        plt.ylabel(\"$IPRK^{(k)} N^{k-1}/k!$\")\n",
    "    plt.legend(loc='best')\n",
    "\n",
    "    plt.figure()\n",
    "    plt.plot(depth, ce, '-ok')\n",
    "    plt.xlabel(\"Depth\")\n",
    "    plt.ylabel(\"Mean cross-entropy\")\n",
    "\n",
    "    plt.figure()\n",
    "    plt.plot(depth, ced, '-ok')\n",
    "    plt.xlabel(\"Depth\")\n",
    "    plt.ylabel(\"Fidelity\")\n",
    "    \n",
    "    plt.figure()\n",
    "    plt.plot(depth, e, '-ok')\n",
    "    plt.xlabel(\"Depth\")\n",
    "    plt.ylabel(\"Mean entropy\")"
   ]
  },
  {
   "cell_type": "code",
   "execution_count": 21,
   "id": "db5621ef-7299-41ce-9a2e-bfc05f132304",
   "metadata": {},
   "outputs": [
    {
     "name": "stdout",
     "output_type": "stream",
     "text": [
      "(10, 5, 11)\n",
      "Traceback \u001b[1;36m(most recent call last)\u001b[0m:\n",
      "  File \u001b[0;32m\"/tmp/ipykernel_788/1498824343.py\"\u001b[0m, line \u001b[0;32m1\u001b[0m, in \u001b[0;35m<module>\u001b[0m\n",
      "    paperplots(depth = depth5[0,0], iprk = np.mean(IPRK5, axis=0), ce = np.mean(cross_entropy5, axis=0), ced=np.mean(cross_entropy_diff5, axis=0), e = np.mean(entropy5, axis=0))\n",
      "  File \u001b[0;32m\"/tmp/ipykernel_788/1130507269.py\"\u001b[0m, line \u001b[0;32m5\u001b[0m, in \u001b[0;35mpaperplots\u001b[0m\n",
      "    plt.plot(depth, iprk[i]*(2**(5))**(i+1)/np.math.factorial(i+2), '-o', label = '$k = %i$'%(i+2)) # *2**(5)**(i+2)/np.math.factorial(i+2) - get too large number\n",
      "  File \u001b[0;32m\"/opt/conda/lib/python3.8/site-packages/matplotlib/pyplot.py\"\u001b[0m, line \u001b[0;32m2757\u001b[0m, in \u001b[0;35mplot\u001b[0m\n",
      "    return gca().plot(\n",
      "  File \u001b[0;32m\"/opt/conda/lib/python3.8/site-packages/matplotlib/axes/_axes.py\"\u001b[0m, line \u001b[0;32m1632\u001b[0m, in \u001b[0;35mplot\u001b[0m\n",
      "    lines = [*self._get_lines(*args, data=data, **kwargs)]\n",
      "  File \u001b[0;32m\"/opt/conda/lib/python3.8/site-packages/matplotlib/axes/_base.py\"\u001b[0m, line \u001b[0;32m312\u001b[0m, in \u001b[0;35m__call__\u001b[0m\n",
      "    yield from self._plot_args(this, kwargs)\n",
      "\u001b[1;36m  File \u001b[1;32m\"/opt/conda/lib/python3.8/site-packages/matplotlib/axes/_base.py\"\u001b[1;36m, line \u001b[1;32m498\u001b[1;36m, in \u001b[1;35m_plot_args\u001b[1;36m\u001b[0m\n",
      "\u001b[1;33m    raise ValueError(f\"x and y must have same first dimension, but \"\u001b[0m\n",
      "\u001b[1;31mValueError\u001b[0m\u001b[1;31m:\u001b[0m x and y must have same first dimension, but have shapes (11,) and (5, 11)\n",
      "\n",
      "Use %tb to get the full traceback.\n"
     ]
    },
    {
     "data": {
      "text/html": [
       "\n",
       "<style>\n",
       ".button {\n",
       "  border: none;\n",
       "  color: white;\n",
       "  padding: 4px 8px;\n",
       "  text-align: center;\n",
       "  text-decoration: none;\n",
       "  display: inline-block;\n",
       "  font-size: 12px;\n",
       "  margin: 4px 2px;\n",
       "  transition-duration: 0.2s;\n",
       "  cursor: pointer;\n",
       "}\n",
       ".iqx-button {\n",
       "  background-color: #0f62fe; \n",
       "  color: white; \n",
       "}\n",
       ".iqx-button:hover {\n",
       "  background-color: #0043ce;\n",
       "  color: white;\n",
       "}\n",
       "</style>\n",
       "<a href=\"https://stackoverflow.com/search?q=ValueError: x and y must have same first dimension, but have shapes (11,) and (5, 11)\" target='_blank'><button class='button iqx-button'>Search for solution online</button></a>\n"
      ],
      "text/plain": [
       "<IPython.core.display.HTML object>"
      ]
     },
     "metadata": {},
     "output_type": "display_data"
    },
    {
     "data": {
      "image/png": "[encoded data removed]",
      "text/plain": [
       "<Figure size 432x288 with 1 Axes>"
      ]
     },
     "metadata": {
      "needs_background": "light"
     },
     "output_type": "display_data"
    }
   ],
   "source": [
    "paperplots(depth = depth5[0,0], iprk = np.mean(IPRK5, axis=0), ce = np.mean(cross_entropy5, axis=0), ced=np.mean(cross_entropy_diff5, axis=0), e = np.mean(entropy5, axis=0))"
   ]
  },
  {
   "cell_type": "code",
   "execution_count": null,
   "id": "3b5bb57d-1aaa-4b1e-bcde-0565e684764c",
   "metadata": {},
   "outputs": [],
   "source": [
    "def add_error(atqubit,atdepth, ondepth, onqubit):\n",
    "    return (atqubit == onqubit) & (atdepth == ondepth)\n",
    "\n",
    "def gen_rqc_single_error(num_qubits, depth, errortype = 'x', add_error = add_error, atqubit = False, atdepth = False, operands = std_operands, seed = 2022):\n",
    "    reg = [i for i in range(num_qubits)]\n",
    "    random.seed(seed)\n",
    "    qc = QuantumCircuit(num_qubits, num_qubits)\n",
    "    qc.h([i for i in range(qc.num_qubits)])\n",
    "    choices = [None]*num_qubits\n",
    "    for i in range(depth):\n",
    "        # single-qubit gate layer\n",
    "        for j in range(num_qubits):\n",
    "            # print(i,j,add_error(atqubit = atqubit,atdepth = atdepth, ondepth = i, onqubit =j))\n",
    "            choice = random_gate(num_qubits=1, operands = operands)\n",
    "            while choice == choices[j]:\n",
    "                choice = random_gate(num_qubits=1, operands = operands)\n",
    "            choices[j] = choice # store to make sure the same gate does not get chosen two times consequtively\n",
    "            qc.unitary(choice, [j], label = choice.label)\n",
    "            if add_error(atqubit = atqubit,atdepth = atdepth, ondepth = i, onqubit =j):\n",
    "                if errortype == 'x':\n",
    "                    qc.x(atqubit)\n",
    "                if errortype == 'z':\n",
    "                    qc.z(atqubit)\n",
    "                \n",
    "        # 2-qubit gate layer\n",
    "        if i%2 == 0:\n",
    "            igate = np.arange(0,num_qubits-2, 2)\n",
    "            for j in igate: \n",
    "                qc.cz(j, j+1)\n",
    "        else:\n",
    "            igate = np.arange(1,num_qubits-1, 2)\n",
    "            for j in igate:\n",
    "                qc.cz(j, j+1)\n",
    "        qc.barrier()\n",
    "                   \n",
    "    return qc\n"
   ]
  },
  {
   "cell_type": "code",
   "execution_count": null,
   "id": "17bd73b8-51fa-46ec-91b1-0d0d689390ed",
   "metadata": {},
   "outputs": [],
   "source": [
    "qrc3 = gen_rqc_single_error(num_qubits=3, depth = 3, atdepth=2, atqubit=2, errortype='z')\n",
    "qrc3.draw()"
   ]
  },
  {
   "cell_type": "code",
   "execution_count": null,
   "id": "8c70c487-426f-4eac-9d30-a6f80e3d8566",
   "metadata": {},
   "outputs": [],
   "source": [
    "from itertools import product\n",
    "def fig3(num_qubits, depth, Nshots = 1, errortype = 'x'):\n",
    "    \n",
    "    qc_ideal = gen_rqc(num_qubits=num_qubits, depth = depth)\n",
    "    qc_ideal.save_statevector()\n",
    "    \n",
    "    # get probabilites from ideal circuit\n",
    "    \n",
    "    # Create ideal simulator backend and transpile circuit\n",
    "    sim_ideal = AerSimulator()\n",
    "    t_qc = transpile(qc_ideal, sim_ideal)\n",
    "    result_ideal = sim_ideal.run(t_qc, shots=Nshots).result()\n",
    "    state_ideal = result_ideal.get_statevector()\n",
    "    pideal = state_ideal.probabilities()\n",
    "\n",
    "    perror = np.zeros((num_qubits, depth, 2**num_qubits))\n",
    "    for atqubit in np.arange(0,num_qubits,1):\n",
    "        for atdepth in np.arange(0,depth, 1):\n",
    "            # print(atqubit, atdepth)\n",
    "            qc = gen_rqc_single_error(num_qubits=num_qubits, depth = depth, errortype = errortype, atdepth=atdepth, atqubit=atqubit)\n",
    "            qc.save_statevector()\n",
    "            \n",
    "            \n",
    "            t_qc_paulierror = transpile(qc, sim_ideal)\n",
    "            \n",
    "            \n",
    "            \n",
    "            # get probabilites from circuit with the one pauli error\n",
    "            result_paulierror = sim_ideal.run(t_qc_paulierror, shots=Nshots).result()\n",
    "            state_error = result_paulierror.get_statevector()\n",
    "            perror[atqubit,atdepth] += state_error.probabilities()\n",
    "        \n",
    "    # sorting\n",
    "    # print(pideal.shape)\n",
    "    # print(np.mean(perror, axis=0).shape)\n",
    "    # print(np.mean(np.mean(perror, axis=0), axis=0))\n",
    "    psorted = [pipe for pipe in zip(*sorted(zip(list(pideal), list(np.mean(np.mean(perror, axis=0), axis=0)))))]\n",
    "    \n",
    "    return psorted"
   ]
  },
  {
   "cell_type": "code",
   "execution_count": null,
   "id": "8d805103-3a46-41da-93db-376354cbd7bb",
   "metadata": {},
   "outputs": [],
   "source": [
    "psortx = fig3(10,10)"
   ]
  },
  {
   "cell_type": "raw",
   "id": "92974638-2e21-4403-bbd8-3c9fd31ec814",
   "metadata": {},
   "source": [
    "plt.title(\"Used X-gate for Pauli error\")\n",
    "plt.plot(np.arange(0,len(psortx[0]), 1), list(psortx[0]), label='No errors')\n",
    "plt.plot(np.arange(0,len(psortx[0]), 1), list(psortx[1]), label='One Pauli error(averaged)')\n",
    "plt.xlabel('Bit-string index $j (p(x_j)$-ordered)')\n",
    "plt.ylabel('$Np$')\n",
    "plt.legend(loc='best')"
   ]
  },
  {
   "cell_type": "code",
   "execution_count": null,
   "id": "c7095bbc-81bc-42e9-b87d-ee7aec359d7e",
   "metadata": {},
   "outputs": [],
   "source": [
    "psortz = fig3(10,10, errortype='z')"
   ]
  },
  {
   "cell_type": "code",
   "execution_count": null,
   "id": "8a4c2f90-ddbf-4dba-8345-6e823e272164",
   "metadata": {},
   "outputs": [],
   "source": [
    "plt.title(\"Used Z-gate for Pauli error\")\n",
    "plt.plot(np.arange(0,len(psortz[0]), 1), list(psortz[0]), label='No errors')\n",
    "plt.plot(np.arange(0,len(psortz[0]), 1), list(psortz[1]), label='One Pauli error(averaged)')\n",
    "plt.xlabel('Bit-string index $j (p(x_j)$-ordered)')\n",
    "plt.ylabel('$Np$')\n",
    "plt.legend(loc='best')"
   ]
  },
  {
   "cell_type": "code",
   "execution_count": null,
   "id": "05898444-5097-455f-9e2d-d4b939c5e0fd",
   "metadata": {},
   "outputs": [],
   "source": []
  }
 ],
 "metadata": {
  "kernelspec": {
   "display_name": "Qiskit v0.34.1 (ipykernel)",
   "language": "python",
   "name": "python3"
  },
  "language_info": {
   "codemirror_mode": {
    "name": "ipython",
    "version": 3
   },
   "file_extension": ".py",
   "mimetype": "text/x-python",
   "name": "python",
   "nbconvert_exporter": "python",
   "pygments_lexer": "ipython3",
   "version": "3.8.10"
  },
  "widgets": {
   "application/vnd.jupyter.widget-state+json": {
    "state": {
     "05de8dd5913c4428a1f310c96eb3f024": {
      "model_module": "@jupyter-widgets/base",
      "model_module_version": "1.2.0",
      "model_name": "LayoutModel",
      "state": {}
     },
     "09f0e0afdeaa40daae903d7521fdf7db": {
      "model_module": "@jupyter-widgets/controls",
      "model_module_version": "1.5.0",
      "model_name": "DescriptionStyleModel",
      "state": {
       "description_width": ""
      }
     },
     "2b624c285b44436e88b4c286ffea31ce": {
      "model_module": "@jupyter-widgets/controls",
      "model_module_version": "1.5.0",
      "model_name": "HTMLModel",
      "state": {
       "layout": "IPY_MODEL_05de8dd5913c4428a1f310c96eb3f024",
       "style": "IPY_MODEL_35e740a53f7747e79e7999a620c5e9cc",
       "value": "<h5>Message</h5>"
      }
     },
     "30df61fb1fb04917a9d907412714dd16": {
      "model_module": "@jupyter-widgets/base",
      "model_module_version": "1.2.0",
      "model_name": "LayoutModel",
      "state": {
       "margin": "0px 0px 10px 0px"
      }
     },
     "3585c23f0e5449bdbadd61756bcd4675": {
      "model_module": "@jupyter-widgets/base",
      "model_module_version": "1.2.0",
      "model_name": "LayoutModel",
      "state": {
       "margin": "0px 0px 0px 37px",
       "width": "600px"
      }
     },
     "35e740a53f7747e79e7999a620c5e9cc": {
      "model_module": "@jupyter-widgets/controls",
      "model_module_version": "1.5.0",
      "model_name": "DescriptionStyleModel",
      "state": {
       "description_width": ""
      }
     },
     "4b5f09a278a147da8ea8647bb9e2c6f8": {
      "model_module": "@jupyter-widgets/controls",
      "model_module_version": "1.5.0",
      "model_name": "DescriptionStyleModel",
      "state": {
       "description_width": ""
      }
     },
     "5da6463630a54281874895a0f16c0f1f": {
      "model_module": "@jupyter-widgets/controls",
      "model_module_version": "1.5.0",
      "model_name": "DescriptionStyleModel",
      "state": {
       "description_width": ""
      }
     },
     "61cb7652beba4c7eabdb62898ef4a8b3": {
      "model_module": "@jupyter-widgets/controls",
      "model_module_version": "1.5.0",
      "model_name": "HBoxModel",
      "state": {
       "children": [
        "IPY_MODEL_f914c521d4c24ed28aa78947335c0911",
        "IPY_MODEL_f6ae20b52154490a992e8f35bc628571",
        "IPY_MODEL_eabe33d923404865b39a729b74ccf4ff",
        "IPY_MODEL_be2b2e9735f84646922e866be8a45ea6",
        "IPY_MODEL_2b624c285b44436e88b4c286ffea31ce"
       ],
       "layout": "IPY_MODEL_3585c23f0e5449bdbadd61756bcd4675"
      }
     },
     "679a5f9559c5480ba478ac8021289278": {
      "model_module": "@jupyter-widgets/controls",
      "model_module_version": "1.5.0",
      "model_name": "ButtonModel",
      "state": {
       "button_style": "primary",
       "description": "Clear",
       "layout": "IPY_MODEL_6853b462f2ed488dbc176038ed648da4",
       "style": "IPY_MODEL_877a5b5067c94b86a3417e8ef5085e49"
      }
     },
     "6853b462f2ed488dbc176038ed648da4": {
      "model_module": "@jupyter-widgets/base",
      "model_module_version": "1.2.0",
      "model_name": "LayoutModel",
      "state": {
       "grid_area": "right",
       "padding": "0px 0px 0px 0px",
       "width": "70px"
      }
     },
     "69442968b7104338a2403dba484bd9ed": {
      "model_module": "@jupyter-widgets/controls",
      "model_module_version": "1.5.0",
      "model_name": "GridBoxModel",
      "state": {
       "children": [
        "IPY_MODEL_679a5f9559c5480ba478ac8021289278"
       ],
       "layout": "IPY_MODEL_dbb70116367c40b79ed051059138785f"
      }
     },
     "7ceac2bc5afa4dc2b4c57e164f3fbdaf": {
      "model_module": "@jupyter-widgets/base",
      "model_module_version": "1.2.0",
      "model_name": "LayoutModel",
      "state": {
       "width": "145px"
      }
     },
     "877a5b5067c94b86a3417e8ef5085e49": {
      "model_module": "@jupyter-widgets/controls",
      "model_module_version": "1.5.0",
      "model_name": "ButtonStyleModel",
      "state": {}
     },
     "937adb1980624ecb8a3da9cc84ef3cfc": {
      "model_module": "@jupyter-widgets/base",
      "model_module_version": "1.2.0",
      "model_name": "LayoutModel",
      "state": {
       "width": "190px"
      }
     },
     "a8e9d2b067d2479fadc59ea3dd86cecd": {
      "model_module": "@jupyter-widgets/controls",
      "model_module_version": "1.5.0",
      "model_name": "HTMLModel",
      "state": {
       "layout": "IPY_MODEL_30df61fb1fb04917a9d907412714dd16",
       "style": "IPY_MODEL_5da6463630a54281874895a0f16c0f1f",
       "value": "<p style='font-family: IBM Plex Sans, Arial, Helvetica, sans-serif; font-size: 20px; font-weight: medium;'>Circuit Properties</p>"
      }
     },
     "b2cb7f70edec4f92a4624571b69a11f7": {
      "model_module": "@jupyter-widgets/controls",
      "model_module_version": "1.5.0",
      "model_name": "DescriptionStyleModel",
      "state": {
       "description_width": ""
      }
     },
     "be2b2e9735f84646922e866be8a45ea6": {
      "model_module": "@jupyter-widgets/controls",
      "model_module_version": "1.5.0",
      "model_name": "HTMLModel",
      "state": {
       "layout": "IPY_MODEL_f1bd36fb4a084689b99871bb81d83faa",
       "style": "IPY_MODEL_09f0e0afdeaa40daae903d7521fdf7db",
       "value": "<h5>Queue</h5>"
      }
     },
     "c6a4cd45a1dc48c6b018cf93be2e93ce": {
      "model_module": "@jupyter-widgets/controls",
      "model_module_version": "1.5.0",
      "model_name": "DescriptionStyleModel",
      "state": {
       "description_width": ""
      }
     },
     "dbb70116367c40b79ed051059138785f": {
      "model_module": "@jupyter-widgets/base",
      "model_module_version": "1.2.0",
      "model_name": "LayoutModel",
      "state": {
       "grid_template_areas": "\n                                       \". . . . right \"\n                                        ",
       "grid_template_columns": "20% 20% 20% 20% 20%",
       "width": "100%"
      }
     },
     "eabe33d923404865b39a729b74ccf4ff": {
      "model_module": "@jupyter-widgets/controls",
      "model_module_version": "1.5.0",
      "model_name": "HTMLModel",
      "state": {
       "layout": "IPY_MODEL_fcb16610d2764532818cbbbb7d79ce6b",
       "style": "IPY_MODEL_c6a4cd45a1dc48c6b018cf93be2e93ce",
       "value": "<h5>Status</h5>"
      }
     },
     "f1bd36fb4a084689b99871bb81d83faa": {
      "model_module": "@jupyter-widgets/base",
      "model_module_version": "1.2.0",
      "model_name": "LayoutModel",
      "state": {
       "width": "70px"
      }
     },
     "f6ae20b52154490a992e8f35bc628571": {
      "model_module": "@jupyter-widgets/controls",
      "model_module_version": "1.5.0",
      "model_name": "HTMLModel",
      "state": {
       "layout": "IPY_MODEL_7ceac2bc5afa4dc2b4c57e164f3fbdaf",
       "style": "IPY_MODEL_b2cb7f70edec4f92a4624571b69a11f7",
       "value": "<h5>Backend</h5>"
      }
     },
     "f914c521d4c24ed28aa78947335c0911": {
      "model_module": "@jupyter-widgets/controls",
      "model_module_version": "1.5.0",
      "model_name": "HTMLModel",
      "state": {
       "layout": "IPY_MODEL_937adb1980624ecb8a3da9cc84ef3cfc",
       "style": "IPY_MODEL_4b5f09a278a147da8ea8647bb9e2c6f8",
       "value": "<h5>Job ID</h5>"
      }
     },
     "fcb16610d2764532818cbbbb7d79ce6b": {
      "model_module": "@jupyter-widgets/base",
      "model_module_version": "1.2.0",
      "model_name": "LayoutModel",
      "state": {
       "width": "95px"
      }
     }
    },
    "version_major": 2,
    "version_minor": 0
   }
  }
 },
 "nbformat": 4,
 "nbformat_minor": 5
}
