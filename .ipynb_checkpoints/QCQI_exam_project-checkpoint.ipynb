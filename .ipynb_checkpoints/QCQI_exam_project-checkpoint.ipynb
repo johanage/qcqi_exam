{
 "cells": [
  {
   "cell_type": "code",
   "execution_count": null,
   "id": "2a0f13db",
   "metadata": {},
   "outputs": [],
   "source": [
    "from IPython.core.display import display, HTML\n",
    "from matplotlib.pyplot import rc\n",
    "display(HTML(\"<style>.container { width:100% !important; }</style>\"))\n",
    "font = {'family' : 'monospace',\n",
    "        'weight' : 'bold',\n",
    "        'size'   : '12'}\n",
    "rc('font', **font)  # pass in the font dict as kwargs"
   ]
  },
  {
   "cell_type": "code",
   "execution_count": 1,
   "id": "78b5181f",
   "metadata": {},
   "outputs": [
    {
     "name": "stderr",
     "output_type": "stream",
     "text": [
      "configrc.store_credentials:WARNING:2022-01-12 22:15:39,154: Credentials already present. Set overwrite=True to overwrite.\n"
     ]
    }
   ],
   "source": [
    "from qiskit import IBMQ\n",
    "mytoken = '105ccb14a9f37cd5ce743b6e47f48c0da24790f0432159de03b522fa68d16848eb741951dcbe5f2aa0af2e0ce3abd5be008d9e37042da2b95e83dbef772850f0'\n",
    "IBMQ.save_account(mytoken)"
   ]
  },
  {
   "cell_type": "code",
   "execution_count": 2,
   "id": "4f5cbf89-0831-425b-96b0-fb83f95165ab",
   "metadata": {},
   "outputs": [
    {
     "name": "stdout",
     "output_type": "stream",
     "text": [
      "ibmq_qasm_simulator\n",
      "ibmq_armonk\n",
      "ibmq_santiago\n",
      "ibmq_bogota\n",
      "ibmq_lima\n",
      "ibmq_belem\n",
      "ibmq_quito\n",
      "simulator_statevector\n",
      "simulator_mps\n",
      "simulator_extended_stabilizer\n",
      "simulator_stabilizer\n",
      "ibmq_manila\n"
     ]
    }
   ],
   "source": [
    "import numpy as np\n",
    "\n",
    "# Importing standard Qiskit libraries\n",
    "from qiskit import QuantumCircuit, transpile, Aer, IBMQ, execute\n",
    "from qiskit.tools.jupyter import *\n",
    "from qiskit.visualization import *\n",
    "from qiskit.providers.aer import QasmSimulator\n",
    "from matplotlib import pyplot as plt\n",
    "import qiskit.providers.aer.noise as noise\n",
    "# Loading your IBM Quantum account(s)\n",
    "provider = IBMQ.load_account()\n",
    "for backend in provider.backends():\n",
    "    print(backend)"
   ]
  },
  {
   "cell_type": "code",
   "execution_count": 3,
   "id": "64016e8e-996b-47b5-9376-cb5a92d2f20e",
   "metadata": {},
   "outputs": [],
   "source": [
    "from qiskit.extensions import UnitaryGate\n",
    "sqrtX = UnitaryGate([[1/np.sqrt(2), -1/np.sqrt(2)*1j], [-1/np.sqrt(2)*1j, 1/np.sqrt(2)]], label='X^1/2')\n",
    "sqrtY = UnitaryGate([[1/np.sqrt(2), -1/np.sqrt(2)], [1/np.sqrt(2), 1/np.sqrt(2)]], label='Y^1/2')\n",
    "sqrtW = UnitaryGate([[1/np.sqrt(2), -1/np.sqrt(2)*np.sqrt(1j)], [1/np.sqrt(2)*np.sqrt(-1j), 1/np.sqrt(2)]], label='W^1/2')"
   ]
  },
  {
   "cell_type": "code",
   "execution_count": 4,
   "id": "0ec6b219-feb3-44ce-bb03-60e29ea1ebf5",
   "metadata": {},
   "outputs": [
    {
     "data": {
      "text/html": [
       "<pre style=\"word-wrap: normal;white-space: pre;background: #fff0;line-height: 1.1;font-family: &quot;Courier New&quot;,Courier,monospace\">     ┌───────┐\n",
       "q_0: ┤ X^1/2 ├\n",
       "     ├───────┤\n",
       "q_1: ┤ Y^1/2 ├\n",
       "     ├───────┤\n",
       "q_2: ┤ W^1/2 ├\n",
       "     └───────┘</pre>"
      ],
      "text/plain": [
       "     ┌───────┐\n",
       "q_0: ┤ X^1/2 ├\n",
       "     ├───────┤\n",
       "q_1: ┤ Y^1/2 ├\n",
       "     ├───────┤\n",
       "q_2: ┤ W^1/2 ├\n",
       "     └───────┘"
      ]
     },
     "execution_count": 4,
     "metadata": {},
     "output_type": "execute_result"
    }
   ],
   "source": [
    "# test that add gate works\n",
    "qc = QuantumCircuit(3)\n",
    "qc.draw()\n",
    "qc.append(sqrtX, [0])\n",
    "qc.append(sqrtY, [1])\n",
    "qc.append(sqrtW, [2])\n",
    "qc.draw()"
   ]
  },
  {
   "cell_type": "code",
   "execution_count": 5,
   "id": "e65d403c-e316-401e-abee-36c2980024c4",
   "metadata": {},
   "outputs": [],
   "source": [
    "import random\n",
    "def random_gate(num_qubits, operands):\n",
    "    \"\"\"\n",
    "    Args:\n",
    "    - operands - gates to choose from\n",
    "    Out:\n",
    "     - Random unitary gate from operands\n",
    "    \"\"\"\n",
    "    choices = random.choices(population = operands, k = num_qubits)\n",
    "    if len(choices) == 1:\n",
    "        return choices[0]\n",
    "    return choices"
   ]
  },
  {
   "cell_type": "code",
   "execution_count": 6,
   "id": "52a70161-3716-45d0-b348-f3a1296f59ec",
   "metadata": {},
   "outputs": [
    {
     "data": {
      "text/plain": [
       "array([[ 0.70710678+0.j, -0.70710678+0.j],\n",
       "       [ 0.70710678+0.j,  0.70710678+0.j]])"
      ]
     },
     "execution_count": 6,
     "metadata": {},
     "output_type": "execute_result"
    }
   ],
   "source": [
    "std_operands = [sqrtX, sqrtY, sqrtW]\n",
    "rand_gate_test = random_gate(num_qubits = 1, operands= std_operands)\n",
    "rand_gate_test.to_matrix()"
   ]
  },
  {
   "cell_type": "code",
   "execution_count": 7,
   "id": "53e04f3f-3661-4455-8c82-8236f759b2c0",
   "metadata": {},
   "outputs": [],
   "source": [
    "def gen_rqc(num_qubits, depth, operands = std_operands, seed = 2022):\n",
    "    reg = [i for i in range(num_qubits)]\n",
    "    random.seed(seed)\n",
    "    qc = QuantumCircuit(num_qubits)\n",
    "    qc.h([i for i in range(qc.num_qubits)])\n",
    "    choices = [None]*num_qubits\n",
    "    for i in range(depth):\n",
    "        # cz gate layer\n",
    "        for j in range(num_qubits):\n",
    "            choice = random_gate(num_qubits=1, operands = operands)\n",
    "            while choice == choices[j]:\n",
    "                choice = random_gate(num_qubits=1, operands = operands)\n",
    "            choices[j] = choice # store to make sure the same gate does not get chosen two times consequtively\n",
    "            qc.unitary(choice, [j], label = choice.label)\n",
    "        # random gate layer\n",
    "        if i%2 == 0:\n",
    "            igate = np.arange(0,num_qubits-2, 2)\n",
    "            for j in igate: \n",
    "                qc.cz(j, j+1)\n",
    "        else:\n",
    "            igate = np.arange(1,num_qubits-1, 2)\n",
    "            for j in igate:\n",
    "                qc.cz(j, j+1)\n",
    "        qc.barrier()\n",
    "        # for num in k:\n",
    "        #     qc.id(num)\n",
    "                   \n",
    "    return qc\n"
   ]
  },
  {
   "cell_type": "code",
   "execution_count": 8,
   "id": "72bfca35-00be-4869-b4a3-660d9d88d4be",
   "metadata": {},
   "outputs": [],
   "source": [
    "qc.barrier?"
   ]
  },
  {
   "cell_type": "code",
   "execution_count": 9,
   "id": "55fbf0f9",
   "metadata": {},
   "outputs": [],
   "source": [
    "import pylatexenc"
   ]
  },
  {
   "cell_type": "code",
   "execution_count": 10,
   "id": "652fba39-84c9-4040-8902-f7f3c25a8cc1",
   "metadata": {},
   "outputs": [
    {
     "data": {
      "image/png": "[encoded data removed]",
      "text/plain": [
       "<Figure size 1621.88x806.68 with 1 Axes>"
      ]
     },
     "execution_count": 10,
     "metadata": {},
     "output_type": "execute_result"
    }
   ],
   "source": [
    "qc5 = gen_rqc(num_qubits=5, depth = 5)\n",
    "qc5.save_statevector()\n",
    "qc5.measure_all()\n",
    "qc5.draw('mpl')"
   ]
  },
  {
   "cell_type": "code",
   "execution_count": 11,
   "id": "517a640d-f8db-467f-aac9-541547e76783",
   "metadata": {},
   "outputs": [],
   "source": [
    "from qiskit.providers.aer import AerSimulator\n",
    "from qiskit.providers.aer.noise import NoiseModel\n",
    "backend = provider.get_backend('ibmq_lima')\n",
    "backend_noise_model = NoiseModel.from_backend(backend)\n",
    "\n",
    "#Create the simulators\n",
    "\n",
    "# Create ideal simulator backend and transpile circuit\n",
    "sim_ideal = AerSimulator()\n",
    "t_qc5 = transpile(qc5, sim_ideal)\n",
    "\n",
    "#Design noise model\n",
    "\n",
    "# Error parameters\n",
    "p1 = 0.005  # damping parameter for single qubit operations\n",
    "p2 = 0.01   # damping parameter for two-qubit operations\n",
    "\n",
    "# Construct the error\n",
    "# Depolarizing quantum errors\n",
    "error_1 = noise.depolarizing_error(p1, 1)\n",
    "error_2 = noise.depolarizing_error(p2, 2)\n",
    "\n",
    "designed_noise_model = noise.NoiseModel()\n",
    "designed_noise_model.add_all_qubit_quantum_error(error_1, ['unitary'])\n",
    "designed_noise_model.add_all_qubit_quantum_error(error_2, ['cz'])\n",
    "\n",
    "# Create noisy simulator backend and transpile circuit\n",
    "sim_noise = AerSimulator(noise_model=designed_noise_model)\n",
    "t_qc5_noisy = transpile(qc5, sim_noise)\n",
    "\n",
    "qc5.measure_all()"
   ]
  },
  {
   "cell_type": "code",
   "execution_count": 12,
   "id": "bbd22571-f176-487f-9abc-1ca36727bcdf",
   "metadata": {},
   "outputs": [],
   "source": [
    "res_noisefree = sim_ideal.run(t_qc5, shots=int(1e5)).result()\n",
    "state = res_noisefree.get_statevector()\n",
    "prob_noisefree = state.probabilities()\n",
    "res_noise = sim_noise.run(t_qc5_noisy, shots=int(1e5)).result()\n"
   ]
  },
  {
   "cell_type": "code",
   "execution_count": 13,
   "id": "67c52ce1-7bcc-4f94-a9af-0784175051f8",
   "metadata": {},
   "outputs": [],
   "source": [
    "import qiskit.quantum_info\n",
    "def prob_getcounts(result, Nshots, qc = None):\n",
    "    totcount = 0\n",
    "    x = result.get_counts()\n",
    "    for state, count in result.get_counts().items():\n",
    "        x[state] = count/Nshots\n",
    "        #x.append(StateVector(state))\n",
    "    return x\n",
    "# check sum of prob equals 1\n",
    "p_noisefree = prob_getcounts(result = res_noisefree, Nshots = int(1e4))\n",
    "p_noisy = prob_getcounts(result = res_noise, Nshots = int(1e4))\n",
    "# p_noisefree"
   ]
  },
  {
   "cell_type": "code",
   "execution_count": 14,
   "id": "9ed4cead-3abc-44d1-b99b-5d4a5df9283b",
   "metadata": {},
   "outputs": [
    {
     "name": "stdout",
     "output_type": "stream",
     "text": [
      "[0.01146742 0.01272406 0.02587891 0.02229339 0.07660266 0.07644948\n",
      " 0.01105101 0.01353307 0.04840925 0.08749803 0.01675474 0.03563016\n",
      " 0.00738171 0.00167552 0.0524543  0.0001963  0.03214279 0.02700865\n",
      " 0.00788437 0.06916839 0.05269125 0.00881781 0.03228159 0.02000516\n",
      " 0.02220961 0.00424135 0.07420438 0.02000516 0.01661594 0.0315851\n",
      " 0.01197008 0.06916839]\n"
     ]
    },
    {
     "data": {
      "text/plain": [
       "(0.8239261789624579, 3.218809723837269)"
      ]
     },
     "execution_count": 14,
     "metadata": {},
     "output_type": "execute_result"
    }
   ],
   "source": [
    "def get_puexp(probdict_noisy, pU):\n",
    "    norm = 0\n",
    "    puexp = []\n",
    "    for key, value in probdict_noisy.items():\n",
    "        ind = int(key.split(\" \")[0], 2) # indices of the bitstrings, have to split between qubits and classical bits\n",
    "        norm += value*pU[ind]\n",
    "        puexp.append(value*pU[ind])\n",
    "    puexp = np.array(puexp)\n",
    "    if norm != 1:\n",
    "        puexp /= norm\n",
    "    return puexp\n",
    "\n",
    "def compute_entropy(probs):\n",
    "    # print(\"\\n entropy function probs: \", probs)\n",
    "    return - np.sum(probs*np.log(probs))\n",
    "\n",
    "# calculate the cross entropy estimate\n",
    "def cross_entropy(probdict_noisy, probdict_noisefree, num_qubits, euler_const = 0.577):\n",
    "    #calculate the estimate of the fidelity aka cross entropy difference\n",
    "    N = 2**(num_qubits)\n",
    "    H0 = np.log(N) + euler_const\n",
    "    pA = np.array( list( probdict_noisy.values() ) )\n",
    "    pU = np.array( list( probdict_noisefree.values() ) )\n",
    "    H_pA_pU = np.sum( ( (1/N) - pA )*np.log( 1 / pU ) )\n",
    "    alpha = H0 - H_pA_pU\n",
    "    return alpha, H_pA_pU\n",
    "# cross_entropy(probdict_noisy = p_noisy, probdict_noisefree = p_noisefree)\n",
    "\n",
    "# calculate the cross entropy difference estimate\n",
    "def cross_entropy_est(probdict_noisy, pU, num_qubits, euler_const = 0.577):\n",
    "    #calculate the estimate of the fidelity aka cross entropy difference\n",
    "    H0 = np.log(2**(num_qubits)) + euler_const\n",
    "    H_pA_pU = 0\n",
    "    nshots = sum(list(probdict_noisy.values() ))\n",
    "    norm = 0\n",
    "    for key, value in probdict_noisy.items():\n",
    "        ind = int(key.split(\" \")[0], 2) # indices of the bitstrings, have to split between qubits and classical bits\n",
    "        norm += value\n",
    "        H_pA_pU += -value*np.log( pU[ind] )\n",
    "    # print(value)\n",
    "    if norm > 1:\n",
    "        H_pA_pU /= norm\n",
    "    # print(\"norm\", norm)\n",
    "    alpha_CLT = H0 - H_pA_pU\n",
    "    return alpha_CLT, H_pA_pU\n",
    "print(prob_noisefree)\n",
    "cross_entropy_est(probdict_noisy = p_noisy, pU = prob_noisefree, num_qubits=5)"
   ]
  },
  {
   "cell_type": "code",
   "execution_count": 15,
   "id": "09960a63-2f28-4463-bc40-18f2716a6482",
   "metadata": {},
   "outputs": [
    {
     "data": {
      "text/plain": [
       "6.246486179403474e-05"
      ]
     },
     "execution_count": 15,
     "metadata": {},
     "output_type": "execute_result"
    }
   ],
   "source": [
    "# calculate the cross entropy difference estimate\n",
    "def compute_IPRK(probdict_noisfree, pU, num_qubits, k, euler_const = 0.577):\n",
    "    iprk = 0\n",
    "    for key, value in probdict_noisfree.items():\n",
    "        ind = int(key.split(\" \")[0], 2) # indices of the bitstrings, have to split between qubits and classical bits\n",
    "        iprk += np.abs(value* pU[ind] )**(2*k)\n",
    "    return iprk\n",
    "compute_IPRK(probdict_noisfree = p_noisy, pU = prob_noisefree, k = 2, num_qubits=5)"
   ]
  },
  {
   "cell_type": "code",
   "execution_count": 16,
   "id": "98bc8235-99a9-4f57-9bd2-e52d6eeeb6ac",
   "metadata": {},
   "outputs": [
    {
     "data": {
      "text/html": [
       "<div>\n",
       "<style scoped>\n",
       "    .dataframe tbody tr th:only-of-type {\n",
       "        vertical-align: middle;\n",
       "    }\n",
       "\n",
       "    .dataframe tbody tr th {\n",
       "        vertical-align: top;\n",
       "    }\n",
       "\n",
       "    .dataframe thead th {\n",
       "        text-align: right;\n",
       "    }\n",
       "</style>\n",
       "<table border=\"1\" class=\"dataframe\">\n",
       "  <thead>\n",
       "    <tr style=\"text-align: right;\">\n",
       "      <th></th>\n",
       "      <th>ninstance</th>\n",
       "      <th>num_qubits</th>\n",
       "      <th>depth</th>\n",
       "      <th>pU</th>\n",
       "      <th>entropy</th>\n",
       "      <th>cross_entropy</th>\n",
       "      <th>cross_entropy_diff</th>\n",
       "      <th>nshots</th>\n",
       "      <th>IPR2</th>\n",
       "      <th>IPR4</th>\n",
       "      <th>IPR6</th>\n",
       "      <th>IPR8</th>\n",
       "      <th>IPR10</th>\n",
       "    </tr>\n",
       "  </thead>\n",
       "  <tbody>\n",
       "  </tbody>\n",
       "</table>\n",
       "</div>"
      ],
      "text/plain": [
       "Empty DataFrame\n",
       "Columns: [ninstance, num_qubits, depth, pU, entropy, cross_entropy, cross_entropy_diff, nshots, IPR2, IPR4, IPR6, IPR8, IPR10]\n",
       "Index: []"
      ]
     },
     "execution_count": 16,
     "metadata": {},
     "output_type": "execute_result"
    }
   ],
   "source": [
    "import pandas as pd\n",
    "ks = np.arange(2,11,2)\n",
    "df_qs = pd.DataFrame(columns= ['puexp', 'ninstance', 'num_qubits', 'depth', 'pU','entropy','cross_entropy', 'cross_entropy_diff','nshots']+['IPR%i'%k for k in ks])\n",
    "df_qs"
   ]
  },
  {
   "cell_type": "code",
   "execution_count": 17,
   "id": "a80cd6c9-796a-495f-b5ee-5c51e8afba67",
   "metadata": {
    "tags": []
   },
   "outputs": [],
   "source": [
    "# make list of entropy depth pairs\n",
    "def entropy_vs_depth(df = df_qs, r = 0.0005, num_qubits = 15, depth_range = np.arange(20,30,2), Nshots = int(1e4), ninstance = None, ks = None, plot_hist_NpU = False):\n",
    "    N = 2**(num_qubits)\n",
    "    \n",
    "    # get backend and noise model for simulating real hardware\n",
    "    # backend = provider.get_backend('ibmq_lima')\n",
    "    # noise_model = NoiseModel.from_backend(backend)\n",
    "    \n",
    "    for i in range(len(depth_range)):\n",
    "        depth = depth_range[i]\n",
    "        # generate the quantu, circuit\n",
    "        qc = gen_rqc(num_qubits=num_qubits, depth = depth)\n",
    "        qc.save_statevector()\n",
    "        \n",
    "        # Create ideal simulator backend and transpile circuit\n",
    "        sim_ideal = AerSimulator(method='statevector')\n",
    "        # t_qc = transpile(qc, sim_ideal)\n",
    "        \n",
    "        #Design noise model\n",
    "\n",
    "        # Error parameters\n",
    "        rinit = r # error rate for initialisation of the qrc\n",
    "        r1 = r/10 # gate 1 error rate\n",
    "        r2 = r # gate 2 error rate\n",
    "        g1 = depth # number of single qbit gates\n",
    "        g2 = depth # number of 2-qbit gates\n",
    "        rmes = r # error rate for measurements\n",
    "        p1 = r1/3 # prob of applying the error after each single-qubit gate\n",
    "        p2 = r2/15 # prob of applying the error after each two-qubit gate\n",
    "        \n",
    "        # initialise the noise model\n",
    "        designed_noise_model = noise.NoiseModel()\n",
    "        # Construct the error\n",
    "        bit_flip = noise.pauli_error([('X', r), ('I', 1 - r)]) # construct bit-flip error\n",
    "        \n",
    "        # Depolarizing quantum errors\n",
    "        error_1 = noise.depolarizing_error(p1, 1)\n",
    "        error_2 = noise.depolarizing_error(p2, 2)\n",
    "        \n",
    "        designed_noise_model.add_all_qubit_quantum_error(bit_flip, \"reset\")\n",
    "        designed_noise_model.add_all_qubit_quantum_error(error_1, ['unitary'])\n",
    "        designed_noise_model.add_all_qubit_quantum_error(error_2, ['cz'])\n",
    "        designed_noise_model.add_all_qubit_quantum_error(bit_flip, \"measure\")\n",
    "\n",
    "        # Create noisy simulator backend and transpile circuit\n",
    "        sim_noise = AerSimulator(noise_model=designed_noise_model)\n",
    "        # t_qc_noisy = transpile(qc, sim_noise)\n",
    "        \n",
    "        # measure all qubits\n",
    "        qc.measure_all()\n",
    "        \n",
    "        # get probabilites from ideal circuit\n",
    "        result_ideal = sim_ideal.run(qc, shots=Nshots).result()\n",
    "        state = result_ideal.get_statevector()\n",
    "        # print(state.probabilities())\n",
    "        pU = state.probabilities()\n",
    "        # print(probs_ideal)\n",
    "        \n",
    "        # get noisy probabilites\n",
    "        result_noisy = sim_noise.run(qc, shots=Nshots).result()\n",
    "        probs_noisy = list(result_noisy.get_counts(0).values())\n",
    "        # print(probs_noisy)\n",
    "        \n",
    "        #compute pu(x^exp)\n",
    "        puexp = get_puexp(prodict_noisy = result_noisy.get_counts(0).values(), pU = pU)\n",
    "        \n",
    "        #compute entropy\n",
    "        entropy = compute_entropy(probs = np.array(pU))\n",
    "        \n",
    "        #compute cross entropy and cross entropy difference\n",
    "        # print(result_noisy.get_counts(qc))\n",
    "        crentropy_diff, crentropy = cross_entropy_est(probdict_noisy = result_ideal.get_counts(0), pU = pU, num_qubits=num_qubits)\n",
    "        \n",
    "        # compute iprk\n",
    "        IPR_k = [compute_IPRK(probdict_noisfree = result_noisy.get_counts(qc), pU = pU, k = k, num_qubits=num_qubits) for k in ks]\n",
    "        \n",
    "        #append to output        \n",
    "        print([float(IPR_k[ik]) for ik in range(len(ks))])\n",
    "        tempdf = pd.DataFrame([[puexp, ninstance, num_qubits, depth, tuple(pU), r, \n",
    "                               entropy, crentropy, crentropy_diff, Nshots] + [IPR_k[ik] for ik in range(len(ks))]], \n",
    "                           columns= ['puexp', 'ninstance', 'num_qubits', 'depth', 'pU', 'r',\n",
    "                                     'entropy','cross_entropy', 'cross_entropy_diff','nshots']+ ['IPR%i'%k for k in ks])\n",
    "        df = pd.concat([df, tempdf])\n",
    "    return df"
   ]
  },
  {
   "cell_type": "code",
   "execution_count": 18,
   "id": "9532d02c-5f0f-4f06-9ce0-7f4674165815",
   "metadata": {},
   "outputs": [
    {
     "data": {
      "text/html": [
       "<div>\n",
       "<style scoped>\n",
       "    .dataframe tbody tr th:only-of-type {\n",
       "        vertical-align: middle;\n",
       "    }\n",
       "\n",
       "    .dataframe tbody tr th {\n",
       "        vertical-align: top;\n",
       "    }\n",
       "\n",
       "    .dataframe thead th {\n",
       "        text-align: right;\n",
       "    }\n",
       "</style>\n",
       "<table border=\"1\" class=\"dataframe\">\n",
       "  <thead>\n",
       "    <tr style=\"text-align: right;\">\n",
       "      <th></th>\n",
       "      <th>ninstance</th>\n",
       "      <th>num_qubits</th>\n",
       "      <th>depth</th>\n",
       "      <th>pU</th>\n",
       "      <th>entropy</th>\n",
       "      <th>cross_entropy</th>\n",
       "      <th>cross_entropy_diff</th>\n",
       "      <th>nshots</th>\n",
       "      <th>IPR2</th>\n",
       "      <th>IPR4</th>\n",
       "      <th>IPR6</th>\n",
       "      <th>IPR8</th>\n",
       "      <th>IPR10</th>\n",
       "    </tr>\n",
       "  </thead>\n",
       "  <tbody>\n",
       "  </tbody>\n",
       "</table>\n",
       "</div>"
      ],
      "text/plain": [
       "Empty DataFrame\n",
       "Columns: [ninstance, num_qubits, depth, pU, entropy, cross_entropy, cross_entropy_diff, nshots, IPR2, IPR4, IPR6, IPR8, IPR10]\n",
       "Index: []"
      ]
     },
     "execution_count": 18,
     "metadata": {},
     "output_type": "execute_result"
    }
   ],
   "source": [
    "dfmaster = pd.DataFrame(columns= ['puexp', 'ninstance', 'num_qubits', 'depth', 'pU','entropy','cross_entropy', 'cross_entropy_diff','nshots']+['IPR%i'%k for k in ks])\n",
    "dfmaster"
   ]
  },
  {
   "cell_type": "code",
   "execution_count": null,
   "id": "61e42d11-f4fd-4943-8a84-acf92929f2e8",
   "metadata": {
    "scrolled": false
   },
   "outputs": [
    {
     "name": "stdout",
     "output_type": "stream",
     "text": [
      "[3.516174696771328e-11, 5.1036921467869416e-23, 1.7471759089937725e-34, 7.563042865740163e-46, 3.5819183264988966e-57]\n",
      "[4.037088903514322e-11, 5.2340964193378187e-23, 1.3385990669243533e-34, 4.041979170431851e-46, 1.3076890915136732e-57]\n",
      "[4.6241647842616237e-11, 1.917967438332254e-22, 1.8504469883004012e-33, 2.0700712126565092e-44, 2.4116115564620052e-55]\n",
      "[1.132460340917104e-10, 3.404545922774618e-21, 1.8265909897509905e-31, 1.0271737406536744e-41, 5.8085721256077104e-52]\n",
      "[2.93060580427991e-11, 3.1770715135052924e-23, 8.987311657958956e-35, 3.2016987998194685e-46, 1.2343556556383139e-57]\n",
      "[4.2900194466107187e-11, 8.457336436794383e-23, 3.263600090249439e-34, 1.4414109914674558e-45, 6.662908806048932e-57]\n",
      "[2.5194385506248142e-11, 1.8757942456170007e-23, 3.570745755045474e-35, 8.326800694685478e-47, 2.0696317234409492e-58]\n",
      "[4.6395874871986155e-11, 8.445142508378354e-23, 2.7979981391999276e-34, 1.0569869477733114e-45, 4.2006265617776486e-57]\n",
      "[1.9783076136861474e-10, 2.5772438255098956e-20, 4.1167166765101745e-30, 6.5968138979331515e-40, 1.0572195070121433e-49]\n",
      "[5.064560987670588e-11, 4.0976656359036404e-22, 7.284697710990505e-33, 1.3880758371209755e-43, 2.671426081227994e-54]\n",
      "[3.8308922261874033e-11, 4.7244509026843714e-23, 1.335950600784194e-34, 4.900351185676121e-46, 1.9974390033480865e-57]\n",
      "[3.400075821633503e-11, 8.716288081815199e-23, 5.878030484863451e-34, 4.466839166291356e-45, 3.5107481700875416e-56]\n",
      "[4.085431701917247e-11, 8.051877648463755e-23, 3.3147651558895715e-34, 1.6842030650194416e-45, 9.434886014357375e-57]\n",
      "[4.185100468411797e-11, 1.1690740566069294e-22, 7.597763625039562e-34, 5.783285100314033e-45, 4.666603923571254e-56]\n",
      "[7.541023835408355e-11, 1.0741949801780949e-21, 2.9452200048508167e-32, 8.784416629308487e-43, 2.667341018921784e-53]\n",
      "[4.139651412453209e-11, 1.0915407057365697e-22, 6.183466011953721e-34, 3.9686876743675947e-45, 2.6534585526412922e-56]\n",
      "[7.186583770243716e-11, 1.3235138817492882e-21, 4.539853917576736e-32, 1.610581247874852e-42, 5.733828523777776e-53]\n",
      "[7.396763926780019e-11, 9.721749872537353e-22, 2.4290888205860927e-32, 6.597200736044914e-43, 1.8377126929821012e-53]\n",
      "[3.587383025130961e-11, 6.834599194070575e-23, 3.302472849209818e-34, 1.9994542702467416e-45, 1.2890861550855095e-56]\n",
      "[5.820689534327709e-11, 6.265363389707914e-22, 1.4672665081413374e-32, 3.57710930249613e-43, 8.745323250979001e-54]\n",
      "[4.154553809646854e-11, 9.589453714439248e-23, 5.1219973230809524e-34, 3.3661989644990994e-45, 2.372519781090749e-56]\n",
      "[3.4148999964249516e-11, 5.578793814514564e-23, 1.9016701201794954e-34, 7.187608468238135e-46, 2.795130162606336e-57]\n",
      "[5.89154142492409e-11, 9.768723500968507e-22, 2.984167636710581e-32, 9.249320862083806e-43, 2.8682980824599022e-53]\n",
      "[5.794203592964272e-11, 2.666257218285737e-22, 3.0242605350250366e-33, 4.006771576916358e-44, 5.517449458482525e-55]\n",
      "[3.0966433632790894e-11, 3.309573235755746e-23, 7.583713686268257e-35, 2.2087464361059756e-46, 7.208920227409546e-58]\n",
      "[9.98684802801057e-11, 1.6529966051632617e-21, 4.73201304282154e-32, 1.4982414874112195e-42, 4.929492674390922e-53]\n",
      "[5.172199871596396e-11, 2.856967212956531e-22, 3.6272526369892575e-33, 5.182022415416614e-44, 7.635443138844566e-55]\n",
      "[4.217609170364115e-11, 8.730794763047068e-23, 4.359630290312439e-34, 2.6907928646398914e-45, 1.7944637120087666e-56]\n",
      "[3.449300784019314e-11, 5.51471642272676e-23, 2.101667511599393e-34, 1.0110981612921264e-45, 5.294638366190166e-57]\n",
      "[6.141236529829346e-11, 2.1922101734129183e-22, 1.7452047415864473e-33, 1.7368254534652393e-44, 1.8636816033386437e-55]\n",
      "[2.802371290205359e-11, 4.079033590757842e-23, 1.8879001983761915e-34, 1.0375623453113494e-45, 5.8474814024438e-57]\n",
      "[4.790031387063165e-11, 8.751352090222076e-23, 3.1521889313781826e-34, 1.3923080410109825e-45, 6.724006559712737e-57]\n",
      "[5.0034342139733546e-11, 1.5887740605971112e-22, 1.2116484448149183e-33, 1.1209293214296419e-44, 1.0990952356026203e-55]\n",
      "[4.24400650083471e-11, 1.4712175561948777e-22, 1.056719089822832e-33, 8.271997748049897e-45, 6.582432800050475e-56]\n",
      "[2.299086891747097e-11, 9.155351058726362e-24, 7.855050593220081e-36, 8.16928558314622e-48, 9.072448276083786e-60]\n",
      "[4.132927962078086e-11, 6.311368784258356e-23, 1.8774317561911482e-34, 6.748358216527762e-46, 2.6836201409084647e-57]\n",
      "[6.034488472778585e-11, 2.6042556869571726e-22, 2.924286966766854e-33, 3.916693856800836e-44, 5.4362162645849075e-55]\n",
      "[8.982178674946515e-11, 1.4916395134713198e-21, 4.760776230387746e-32, 1.6624146913368754e-42, 5.916139610179356e-53]\n",
      "[4.8532139258378485e-11, 1.3037035385489656e-22, 7.460943194439004e-34, 5.164323807344354e-45, 3.8783738573511095e-56]\n",
      "[3.627622935785711e-11, 4.9130059691728417e-23, 1.591147547078408e-34, 6.612351882064533e-46, 3.018581696997357e-57]\n",
      "[5.944416022457925e-11, 2.93590364589624e-22, 3.135925715157981e-33, 3.918953436245359e-44, 5.1803771661033225e-55]\n",
      "[1.0902473683976143e-10, 6.149655046016999e-21, 4.786359053344506e-31, 3.743299539477122e-41, 2.9279619312883925e-51]\n",
      "[3.3724990047904866e-11, 4.559562955690877e-23, 1.5616053301879677e-34, 6.857040528366149e-46, 3.281846120494606e-57]\n",
      "[4.657117940042706e-11, 3.5857164190529396e-22, 5.803272179819131e-33, 1.015408609623347e-43, 1.802910771071535e-54]\n",
      "[3.6821095255820856e-11, 8.777419854231336e-23, 5.657834892975525e-34, 4.334547352046314e-45, 3.4495361200420774e-56]\n",
      "[8.598454713851696e-11, 1.9269060697689976e-21, 8.036015380986501e-32, 3.4573025294635043e-42, 1.4904922119002079e-52]\n",
      "[6.04903345084776e-11, 2.8479460589890093e-22, 2.6063177677301126e-33, 2.766547133203258e-44, 3.120235250642332e-55]\n",
      "[6.571381375789454e-11, 2.2200908135155346e-22, 1.3593164256416209e-33, 9.827638041392936e-45, 7.779563828798052e-56]\n",
      "[5.972779025580959e-11, 1.0046024840795234e-21, 3.029507430055875e-32, 9.411564961470496e-43, 2.9305941376978823e-53]\n",
      "[3.4728177635472284e-11, 1.205274740555421e-22, 1.1274825357666459e-33, 1.1541721123907435e-44, 1.1937527595361025e-55]\n",
      "[3.273279372186926e-11, 3.3124996952326734e-23, 6.110906675030942e-35, 1.3391423220228932e-46, 3.22987723508361e-58]\n",
      "[4.1067082821999853e-11, 5.539110024135039e-23, 1.4509727854192034e-34, 4.299258613229697e-46, 1.3260668129019708e-57]\n",
      "[3.9894739444633044e-11, 1.1984183678168535e-22, 8.7688200022589e-34, 7.628203856160896e-45, 6.950859458830867e-56]\n",
      "[3.315995800289379e-11, 3.9743324129889846e-23, 1.0659857845897009e-34, 3.4553406143509727e-46, 1.2221356878692258e-57]\n",
      "[5.417324921638133e-11, 4.781933867600958e-22, 9.411292827127415e-33, 1.9617553874087476e-43, 4.1199262941949434e-54]\n",
      "[3.342675940498567e-11, 3.6305242309867935e-23, 8.842761609547293e-35, 2.8738553440117847e-46, 1.0548688088420287e-57]\n",
      "[5.0658102494046e-11, 2.506825981470333e-22, 2.978648252637473e-33, 3.990414809512359e-44, 5.510222875426395e-55]\n",
      "[2.8791717984725093e-11, 2.715194633403342e-23, 5.181121080287961e-35, 1.174185320304294e-46, 2.859753626928304e-58]\n",
      "[8.656018600220793e-11, 7.977705133512143e-22, 1.4662534236587555e-32, 3.1358154765630034e-43, 7.081145947756118e-54]\n",
      "[5.54817183898547e-11, 4.639475933443448e-22, 7.745307214535764e-33, 1.4324252423542863e-43, 2.727693541580357e-54]\n",
      "[4.220736537841118e-11, 1.0417689459168588e-22, 5.585963699768164e-34, 3.4220491040079605e-45, 2.170123743232157e-56]\n",
      "[1.5031662443197785e-10, 8.395382584535624e-21, 7.2049527610789665e-31, 6.412521759883322e-41, 5.733179982024185e-51]\n",
      "[5.86537483477335e-11, 2.4697697904886417e-22, 1.8357541046498203e-33, 1.5076919119547178e-44, 1.290825633756017e-55]\n",
      "[3.4037929877506125e-11, 7.022191714111465e-23, 4.218168742678156e-34, 2.997220027585256e-45, 2.19544686652208e-56]\n",
      "[2.4950003671500898e-11, 1.4082825421496674e-23, 2.0071241131144e-35, 3.764719308390745e-47, 7.8682712461082075e-59]\n",
      "[6.091349092968592e-11, 1.1092041778707484e-21, 3.605326665190816e-32, 1.1899545062002446e-42, 3.930015466840997e-53]\n",
      "[3.450927630230699e-11, 3.235000183343768e-23, 7.390388748935324e-35, 2.352178571898479e-46, 8.45522817782267e-58]\n",
      "[4.9565479113411675e-11, 9.898424411567566e-23, 4.6187985231543824e-34, 2.8320368348348065e-45, 1.9075962315074875e-56]\n",
      "[3.006435845014775e-11, 2.8528235729376804e-23, 6.455850183993104e-35, 1.860584733344898e-46, 5.9089322558278966e-58]\n",
      "[7.075869011242244e-11, 7.5164616182949515e-22, 1.779147793578408e-32, 4.563972059137379e-43, 1.1832030121746636e-53]\n"
     ]
    },
    {
     "name": "stdout",
     "output_type": "stream",
     "text": [
      "[3.346994234116111e-11, 7.290141493802635e-23, 4.366405862227445e-34, 3.063737519763753e-45, 2.230981435313691e-56]\n",
      "[5.3750162797892666e-11, 2.071215184379775e-22, 1.3396032700749338e-33, 9.314623980744727e-45, 6.693172239693106e-56]\n",
      "[3.7264452609987935e-11, 6.97301812176018e-23, 2.902410567800187e-34, 1.3884668918357717e-45, 7.018771589402106e-57]\n",
      "[4.878089911606091e-11, 1.923525295544164e-22, 1.7446355538529725e-33, 1.7970557578472244e-44, 1.9265806012196294e-55]\n",
      "[3.826861098223571e-11, 1.4155598327819586e-22, 1.1876002119374213e-33, 1.1012920095372758e-44, 1.0592657945733289e-55]\n",
      "[6.475973811538728e-11, 1.1200762668257928e-21, 3.5743853485895665e-32, 1.172837371904073e-42, 3.8579729991812282e-53]\n",
      "[3.5621738626293355e-11, 1.1600447261975056e-22, 1.0591569263147655e-33, 1.0612311039900435e-44, 1.0745965241877891e-55]\n",
      "[3.430497706116939e-11, 8.153449844018357e-23, 5.4453953134756515e-34, 4.1038486130643884e-45, 3.1877569621188827e-56]\n",
      "[5.182084827959987e-11, 1.56355905576192e-22, 9.10090148691922e-34, 5.948489926611207e-45, 4.068132705453228e-56]\n",
      "[4.718706572996893e-11, 2.322733759727202e-22, 2.363932235698377e-33, 2.6441310516527203e-44, 3.055163735355768e-55]\n",
      "[7.814974436414391e-11, 1.0706187485346277e-21, 2.948026714773079e-32, 8.793291005086443e-43, 2.6686132838840632e-53]\n",
      "[3.220840465652008e-11, 2.2929802254491454e-23, 3.375852440672052e-35, 6.030457503207041e-47, 1.1616023410122054e-58]\n",
      "[4.6067195782458464e-11, 7.713807475553952e-23, 2.8933313647656537e-34, 1.3552513829747039e-45, 6.947294967989049e-57]\n",
      "[4.086765806894709e-11, 2.0910883691545181e-22, 2.5978376814518347e-33, 3.489449633383723e-44, 4.7470142924035045e-55]\n",
      "[4.581939501673721e-11, 1.442234399841802e-22, 9.096389425527238e-34, 6.628049491140336e-45, 5.097153773902218e-56]\n",
      "[6.263070939259431e-11, 4.438292467806907e-22, 5.2300854727586504e-33, 6.638661304375061e-44, 8.737088234788428e-55]\n",
      "[4.714501906642708e-11, 3.9827922114218144e-22, 7.240551603088145e-33, 1.386181208654694e-43, 2.670580623513533e-54]\n",
      "[4.160417889264922e-11, 9.421715006528996e-23, 6.025282353949236e-34, 4.629217370784408e-45, 3.7027268890199983e-56]\n",
      "[5.181933721408723e-11, 1.7947462072930286e-22, 1.2303694637571642e-33, 9.416215577809568e-45, 7.467001041731215e-56]\n",
      "[9.689855042898403e-11, 2.2213752857433557e-21, 8.95680263441841e-32, 3.897673126423027e-42, 1.7219148549291517e-52]\n",
      "[3.3766264257036745e-11, 4.492299532304496e-23, 1.180749295462556e-34, 3.671575970187784e-46, 1.2336311792623834e-57]\n",
      "[1.0012321441719296e-10, 3.278179933487011e-21, 1.8153556786610818e-31, 1.0262192019269035e-41, 5.807767640287319e-52]\n",
      "[2.7069857210292322e-11, 3.82157966636215e-23, 1.7344995830786193e-34, 9.314155542886425e-46, 5.117711274344969e-57]\n",
      "[7.145833485385915e-11, 6.873337088658929e-22, 1.4067177093969335e-32, 3.1938298631096314e-43, 7.446162715941303e-54]\n",
      "[9.057697485218539e-11, 2.8008231187100694e-21, 1.443857779808661e-31, 7.56541486341068e-42, 3.967435801861451e-52]\n",
      "[1.0512177123019713e-10, 1.3231769293278868e-21, 3.287238734873696e-32, 9.63929873732302e-43, 2.9554548574115537e-53]\n",
      "[2.782428006526281e-10, 6.59105166938575e-20, 1.6917245808409325e-29, 4.342825889283012e-39, 1.1148476421770233e-48]\n",
      "[3.3350147328941354e-11, 3.603640173805643e-23, 9.450017368061462e-35, 3.0137829394219388e-46, 1.0145525578566374e-57]\n",
      "[9.697697990384803e-11, 2.022339474053997e-21, 5.798798579718894e-32, 1.7349373621101164e-42, 5.321207616707642e-53]\n",
      "[3.5721025652949063e-11, 4.7627448803171906e-23, 1.4671479199411516e-34, 5.348320895498423e-46, 2.0538975026728643e-57]\n",
      "[4.405827467601549e-11, 1.1988399953653746e-22, 6.921271066765642e-34, 4.495907395002218e-45, 3.0331711124235834e-56]\n",
      "[5.530875973471963e-11, 3.872443797205166e-22, 5.911739163402482e-33, 1.0055170689417348e-43, 1.757138434848411e-54]\n",
      "[3.431104104022852e-11, 3.141460111691557e-23, 6.193113706073826e-35, 1.4737114666770597e-46, 3.7855801028879274e-58]\n",
      "[5.932135136720925e-11, 1.7763986188614307e-22, 1.1507159858371773e-33, 8.887677774279645e-45, 7.172071463666125e-56]\n",
      "[6.304377438887393e-11, 2.6023635202765195e-22, 1.9667435089756966e-33, 1.7589214245363426e-44, 1.6856983696168165e-55]\n",
      "[7.784325542254736e-11, 1.0482953126259595e-21, 2.5448333747920815e-32, 6.777604027887212e-43, 1.8655808594325279e-53]\n",
      "[7.287730801897127e-11, 5.887802063293938e-22, 8.101971655971243e-33, 1.211904317803365e-43, 1.8777846581918607e-54]\n",
      "[4.4223440341509476e-11, 1.4395920972010778e-22, 9.121909055323375e-34, 6.491513943526372e-45, 4.774972792982915e-56]\n",
      "[9.228656181885713e-11, 4.672351290576779e-21, 3.184297741621596e-31, 2.174371086697384e-41, 1.4847956714801975e-51]\n",
      "[4.666902444153742e-11, 1.5414144321866202e-22, 1.0877301631853302e-33, 8.565880243679185e-45, 6.884974560477543e-56]\n",
      "[3.624054050998123e-11, 4.223391144460204e-23, 1.0505007516436744e-34, 3.1687646277228856e-46, 1.0230765505915856e-57]\n",
      "[6.215567006399254e-11, 3.046323681395144e-22, 2.4053392025425612e-33, 2.0231122787827476e-44, 1.7400012151212016e-55]\n",
      "[3.013773075143769e-11, 2.5782657396569848e-23, 5.571975004938796e-35, 1.5210030867540698e-46, 4.473242127104901e-58]\n",
      "[4.502872532311486e-11, 2.555001143851842e-22, 3.358914141885587e-33, 4.794699751524418e-44, 6.985760222220439e-55]\n"
     ]
    }
   ],
   "source": [
    "depth_range = np.arange(20,41,2)\n",
    "rs = np.array([0, 0.0005, 0.001, 0.002, 0.005])\n",
    "Ninstances = 10\n",
    "shape = rs.shape + (Ninstances,) + depth_range.shape\n",
    "depth5, cross_entropy5, cross_entropy_diff5, IPRK5, entropy5 = np.zeros(shape), np.zeros(shape), np.zeros(shape), np.zeros(rs.shape + (Ninstances,)+ ks.shape +depth_range.shape), np.zeros(shape)\n",
    "\n",
    "for j in range(len(rs)):\n",
    "    r = rs[j]\n",
    "    for i in range(Ninstances):\n",
    "        df_qs = entropy_vs_depth(r = r, depth_range = depth_range, ks=ks, ninstance = i)\n",
    "        dfmaster = pd.concat([dfmaster, df_qs])"
   ]
  },
  {
   "cell_type": "code",
   "execution_count": null,
   "id": "0a5f9292-5cfd-4499-8a26-60610dcc0dbb",
   "metadata": {},
   "outputs": [],
   "source": [
    "def compute_yaxis_iprk(iprk, k, num_qubits):\n",
    "    # for such a large number it is more convenient to use the logarithm\n",
    "    lognumber = num_qubits*(k-1)*np.log(2)/sum([np.log(i) for i in range(1,k+1)])\n",
    "    return np.exp(lognumber)"
   ]
  },
  {
   "cell_type": "code",
   "execution_count": null,
   "id": "e845ddfa-65c7-4c78-b6d4-a14f853a2e09",
   "metadata": {},
   "outputs": [],
   "source": [
    "dfmaster"
   ]
  },
  {
   "cell_type": "code",
   "execution_count": null,
   "id": "76550fca-cb28-4ba6-bd79-a76641bcf4db",
   "metadata": {},
   "outputs": [],
   "source": [
    "def paperplots(depth, iprk, ce, ced, e):\n",
    "    print(iprk.shape)\n",
    "    plt.figure()\n",
    "    for i in range(len(iprk)):\n",
    "        plt.plot(depth, iprk[i]*(2**(5))**(i+1)/np.math.factorial(i+2), '-o', label = '$k = %i$'%(i+2)) # *2**(5)**(i+2)/np.math.factorial(i+2) - get too large number\n",
    "        plt.yscale('log')\n",
    "        plt.xlabel(\"Depth\")\n",
    "        plt.ylabel(\"$IPRK^{(k)} N^{k-1}/k!$\")\n",
    "    plt.legend(loc='best')\n",
    "\n",
    "    plt.figure()\n",
    "    plt.plot(depth, ce, '-ok')\n",
    "    plt.xlabel(\"Depth\")\n",
    "    plt.ylabel(\"Mean cross-entropy\")\n",
    "\n",
    "    plt.figure()\n",
    "    plt.plot(depth, ced, '-ok')\n",
    "    plt.xlabel(\"Depth\")\n",
    "    plt.ylabel(\"Fidelity\")\n",
    "    \n",
    "    plt.figure()\n",
    "    plt.plot(depth, e, '-ok')\n",
    "    plt.xlabel(\"Depth\")\n",
    "    plt.ylabel(\"Mean entropy\")"
   ]
  },
  {
   "cell_type": "code",
   "execution_count": null,
   "id": "db5621ef-7299-41ce-9a2e-bfc05f132304",
   "metadata": {},
   "outputs": [],
   "source": [
    "paperplots(depth = depth5[0,0], iprk = np.mean(IPRK5, axis=0), ce = np.mean(cross_entropy5, axis=0), ced=np.mean(cross_entropy_diff5, axis=0), e = np.mean(entropy5, axis=0))"
   ]
  },
  {
   "cell_type": "code",
   "execution_count": null,
   "id": "3b5bb57d-1aaa-4b1e-bcde-0565e684764c",
   "metadata": {},
   "outputs": [],
   "source": [
    "def add_error(atqubit,atdepth, ondepth, onqubit):\n",
    "    return (atqubit == onqubit) & (atdepth == ondepth)\n",
    "\n",
    "def gen_rqc_single_error(num_qubits, depth, errortype = 'x', add_error = add_error, atqubit = False, atdepth = False, operands = std_operands, seed = 2022):\n",
    "    reg = [i for i in range(num_qubits)]\n",
    "    random.seed(seed)\n",
    "    qc = QuantumCircuit(num_qubits, num_qubits)\n",
    "    qc.h([i for i in range(qc.num_qubits)])\n",
    "    choices = [None]*num_qubits\n",
    "    for i in range(depth):\n",
    "        # single-qubit gate layer\n",
    "        for j in range(num_qubits):\n",
    "            # print(i,j,add_error(atqubit = atqubit,atdepth = atdepth, ondepth = i, onqubit =j))\n",
    "            choice = random_gate(num_qubits=1, operands = operands)\n",
    "            while choice == choices[j]:\n",
    "                choice = random_gate(num_qubits=1, operands = operands)\n",
    "            choices[j] = choice # store to make sure the same gate does not get chosen two times consequtively\n",
    "            qc.unitary(choice, [j], label = choice.label)\n",
    "            if add_error(atqubit = atqubit,atdepth = atdepth, ondepth = i, onqubit =j):\n",
    "                if errortype == 'x':\n",
    "                    qc.x(atqubit)\n",
    "                if errortype == 'z':\n",
    "                    qc.z(atqubit)\n",
    "                \n",
    "        # 2-qubit gate layer\n",
    "        if i%2 == 0:\n",
    "            igate = np.arange(0,num_qubits-2, 2)\n",
    "            for j in igate: \n",
    "                qc.cz(j, j+1)\n",
    "        else:\n",
    "            igate = np.arange(1,num_qubits-1, 2)\n",
    "            for j in igate:\n",
    "                qc.cz(j, j+1)\n",
    "        qc.barrier()\n",
    "                   \n",
    "    return qc\n"
   ]
  },
  {
   "cell_type": "code",
   "execution_count": null,
   "id": "17bd73b8-51fa-46ec-91b1-0d0d689390ed",
   "metadata": {},
   "outputs": [],
   "source": [
    "qrc3 = gen_rqc_single_error(num_qubits=3, depth = 3, atdepth=2, atqubit=2, errortype='z')\n",
    "qrc3.draw()"
   ]
  },
  {
   "cell_type": "code",
   "execution_count": null,
   "id": "8c70c487-426f-4eac-9d30-a6f80e3d8566",
   "metadata": {},
   "outputs": [],
   "source": [
    "from itertools import product\n",
    "def fig3(num_qubits, depth, Nshots = 1, errortype = 'x'):\n",
    "    \n",
    "    qc_ideal = gen_rqc(num_qubits=num_qubits, depth = depth)\n",
    "    qc_ideal.save_statevector()\n",
    "    \n",
    "    # get probabilites from ideal circuit\n",
    "    \n",
    "    # Create ideal simulator backend and transpile circuit\n",
    "    sim_ideal = AerSimulator()\n",
    "    t_qc = transpile(qc_ideal, sim_ideal)\n",
    "    result_ideal = sim_ideal.run(t_qc, shots=Nshots).result()\n",
    "    state_ideal = result_ideal.get_statevector()\n",
    "    pideal = state_ideal.probabilities()\n",
    "\n",
    "    perror = np.zeros((num_qubits, depth, 2**num_qubits))\n",
    "    for atqubit in np.arange(0,num_qubits,1):\n",
    "        for atdepth in np.arange(0,depth, 1):\n",
    "            # print(atqubit, atdepth)\n",
    "            qc = gen_rqc_single_error(num_qubits=num_qubits, depth = depth, errortype = errortype, atdepth=atdepth, atqubit=atqubit)\n",
    "            qc.save_statevector()\n",
    "            \n",
    "            \n",
    "            t_qc_paulierror = transpile(qc, sim_ideal)\n",
    "            \n",
    "            \n",
    "            \n",
    "            # get probabilites from circuit with the one pauli error\n",
    "            result_paulierror = sim_ideal.run(t_qc_paulierror, shots=Nshots).result()\n",
    "            state_error = result_paulierror.get_statevector()\n",
    "            perror[atqubit,atdepth] += state_error.probabilities()\n",
    "        \n",
    "    # sorting\n",
    "    # print(pideal.shape)\n",
    "    # print(np.mean(perror, axis=0).shape)\n",
    "    # print(np.mean(np.mean(perror, axis=0), axis=0))\n",
    "    psorted = [pipe for pipe in zip(*sorted(zip(list(pideal), list(np.mean(np.mean(perror, axis=0), axis=0)))))]\n",
    "    \n",
    "    return psorted"
   ]
  },
  {
   "cell_type": "code",
   "execution_count": null,
   "id": "8d805103-3a46-41da-93db-376354cbd7bb",
   "metadata": {},
   "outputs": [],
   "source": [
    "psortx = fig3(10,10)"
   ]
  },
  {
   "cell_type": "raw",
   "id": "92974638-2e21-4403-bbd8-3c9fd31ec814",
   "metadata": {},
   "source": [
    "plt.title(\"Used X-gate for Pauli error\")\n",
    "plt.plot(np.arange(0,len(psortx[0]), 1), list(psortx[0]), label='No errors')\n",
    "plt.plot(np.arange(0,len(psortx[0]), 1), list(psortx[1]), label='One Pauli error(averaged)')\n",
    "plt.xlabel('Bit-string index $j (p(x_j)$-ordered)')\n",
    "plt.ylabel('$Np$')\n",
    "plt.legend(loc='best')"
   ]
  },
  {
   "cell_type": "code",
   "execution_count": null,
   "id": "c7095bbc-81bc-42e9-b87d-ee7aec359d7e",
   "metadata": {},
   "outputs": [],
   "source": [
    "psortz = fig3(10,10, errortype='z')"
   ]
  },
  {
   "cell_type": "code",
   "execution_count": null,
   "id": "8a4c2f90-ddbf-4dba-8345-6e823e272164",
   "metadata": {},
   "outputs": [],
   "source": [
    "plt.title(\"Used Z-gate for Pauli error\")\n",
    "plt.plot(np.arange(0,len(psortz[0]), 1), list(psortz[0]), label='No errors')\n",
    "plt.plot(np.arange(0,len(psortz[0]), 1), list(psortz[1]), label='One Pauli error(averaged)')\n",
    "plt.xlabel('Bit-string index $j (p(x_j)$-ordered)')\n",
    "plt.ylabel('$Np$')\n",
    "plt.legend(loc='best')"
   ]
  },
  {
   "cell_type": "code",
   "execution_count": null,
   "id": "05898444-5097-455f-9e2d-d4b939c5e0fd",
   "metadata": {},
   "outputs": [],
   "source": []
  }
 ],
 "metadata": {
  "kernelspec": {
   "display_name": "Python 3",
   "language": "python",
   "name": "python3"
  },
  "language_info": {
   "codemirror_mode": {
    "name": "ipython",
    "version": 3
   },
   "file_extension": ".py",
   "mimetype": "text/x-python",
   "name": "python",
   "nbconvert_exporter": "python",
   "pygments_lexer": "ipython3",
   "version": "3.6.9"
  },
  "widgets": {
   "application/vnd.jupyter.widget-state+json": {
    "state": {
     "05de8dd5913c4428a1f310c96eb3f024": {
      "model_module": "@jupyter-widgets/base",
      "model_module_version": "1.2.0",
      "model_name": "LayoutModel",
      "state": {}
     },
     "09f0e0afdeaa40daae903d7521fdf7db": {
      "model_module": "@jupyter-widgets/controls",
      "model_module_version": "1.5.0",
      "model_name": "DescriptionStyleModel",
      "state": {
       "description_width": ""
      }
     },
     "2b624c285b44436e88b4c286ffea31ce": {
      "model_module": "@jupyter-widgets/controls",
      "model_module_version": "1.5.0",
      "model_name": "HTMLModel",
      "state": {
       "layout": "IPY_MODEL_05de8dd5913c4428a1f310c96eb3f024",
       "style": "IPY_MODEL_35e740a53f7747e79e7999a620c5e9cc",
       "value": "<h5>Message</h5>"
      }
     },
     "30df61fb1fb04917a9d907412714dd16": {
      "model_module": "@jupyter-widgets/base",
      "model_module_version": "1.2.0",
      "model_name": "LayoutModel",
      "state": {
       "margin": "0px 0px 10px 0px"
      }
     },
     "3585c23f0e5449bdbadd61756bcd4675": {
      "model_module": "@jupyter-widgets/base",
      "model_module_version": "1.2.0",
      "model_name": "LayoutModel",
      "state": {
       "margin": "0px 0px 0px 37px",
       "width": "600px"
      }
     },
     "35e740a53f7747e79e7999a620c5e9cc": {
      "model_module": "@jupyter-widgets/controls",
      "model_module_version": "1.5.0",
      "model_name": "DescriptionStyleModel",
      "state": {
       "description_width": ""
      }
     },
     "4b5f09a278a147da8ea8647bb9e2c6f8": {
      "model_module": "@jupyter-widgets/controls",
      "model_module_version": "1.5.0",
      "model_name": "DescriptionStyleModel",
      "state": {
       "description_width": ""
      }
     },
     "5da6463630a54281874895a0f16c0f1f": {
      "model_module": "@jupyter-widgets/controls",
      "model_module_version": "1.5.0",
      "model_name": "DescriptionStyleModel",
      "state": {
       "description_width": ""
      }
     },
     "61cb7652beba4c7eabdb62898ef4a8b3": {
      "model_module": "@jupyter-widgets/controls",
      "model_module_version": "1.5.0",
      "model_name": "HBoxModel",
      "state": {
       "children": [
        "IPY_MODEL_f914c521d4c24ed28aa78947335c0911",
        "IPY_MODEL_f6ae20b52154490a992e8f35bc628571",
        "IPY_MODEL_eabe33d923404865b39a729b74ccf4ff",
        "IPY_MODEL_be2b2e9735f84646922e866be8a45ea6",
        "IPY_MODEL_2b624c285b44436e88b4c286ffea31ce"
       ],
       "layout": "IPY_MODEL_3585c23f0e5449bdbadd61756bcd4675"
      }
     },
     "679a5f9559c5480ba478ac8021289278": {
      "model_module": "@jupyter-widgets/controls",
      "model_module_version": "1.5.0",
      "model_name": "ButtonModel",
      "state": {
       "button_style": "primary",
       "description": "Clear",
       "layout": "IPY_MODEL_6853b462f2ed488dbc176038ed648da4",
       "style": "IPY_MODEL_877a5b5067c94b86a3417e8ef5085e49"
      }
     },
     "6853b462f2ed488dbc176038ed648da4": {
      "model_module": "@jupyter-widgets/base",
      "model_module_version": "1.2.0",
      "model_name": "LayoutModel",
      "state": {
       "grid_area": "right",
       "padding": "0px 0px 0px 0px",
       "width": "70px"
      }
     },
     "69442968b7104338a2403dba484bd9ed": {
      "model_module": "@jupyter-widgets/controls",
      "model_module_version": "1.5.0",
      "model_name": "GridBoxModel",
      "state": {
       "children": [
        "IPY_MODEL_679a5f9559c5480ba478ac8021289278"
       ],
       "layout": "IPY_MODEL_dbb70116367c40b79ed051059138785f"
      }
     },
     "7ceac2bc5afa4dc2b4c57e164f3fbdaf": {
      "model_module": "@jupyter-widgets/base",
      "model_module_version": "1.2.0",
      "model_name": "LayoutModel",
      "state": {
       "width": "145px"
      }
     },
     "877a5b5067c94b86a3417e8ef5085e49": {
      "model_module": "@jupyter-widgets/controls",
      "model_module_version": "1.5.0",
      "model_name": "ButtonStyleModel",
      "state": {}
     },
     "937adb1980624ecb8a3da9cc84ef3cfc": {
      "model_module": "@jupyter-widgets/base",
      "model_module_version": "1.2.0",
      "model_name": "LayoutModel",
      "state": {
       "width": "190px"
      }
     },
     "a8e9d2b067d2479fadc59ea3dd86cecd": {
      "model_module": "@jupyter-widgets/controls",
      "model_module_version": "1.5.0",
      "model_name": "HTMLModel",
      "state": {
       "layout": "IPY_MODEL_30df61fb1fb04917a9d907412714dd16",
       "style": "IPY_MODEL_5da6463630a54281874895a0f16c0f1f",
       "value": "<p style='font-family: IBM Plex Sans, Arial, Helvetica, sans-serif; font-size: 20px; font-weight: medium;'>Circuit Properties</p>"
      }
     },
     "b2cb7f70edec4f92a4624571b69a11f7": {
      "model_module": "@jupyter-widgets/controls",
      "model_module_version": "1.5.0",
      "model_name": "DescriptionStyleModel",
      "state": {
       "description_width": ""
      }
     },
     "be2b2e9735f84646922e866be8a45ea6": {
      "model_module": "@jupyter-widgets/controls",
      "model_module_version": "1.5.0",
      "model_name": "HTMLModel",
      "state": {
       "layout": "IPY_MODEL_f1bd36fb4a084689b99871bb81d83faa",
       "style": "IPY_MODEL_09f0e0afdeaa40daae903d7521fdf7db",
       "value": "<h5>Queue</h5>"
      }
     },
     "c6a4cd45a1dc48c6b018cf93be2e93ce": {
      "model_module": "@jupyter-widgets/controls",
      "model_module_version": "1.5.0",
      "model_name": "DescriptionStyleModel",
      "state": {
       "description_width": ""
      }
     },
     "dbb70116367c40b79ed051059138785f": {
      "model_module": "@jupyter-widgets/base",
      "model_module_version": "1.2.0",
      "model_name": "LayoutModel",
      "state": {
       "grid_template_areas": "\n                                       \". . . . right \"\n                                        ",
       "grid_template_columns": "20% 20% 20% 20% 20%",
       "width": "100%"
      }
     },
     "eabe33d923404865b39a729b74ccf4ff": {
      "model_module": "@jupyter-widgets/controls",
      "model_module_version": "1.5.0",
      "model_name": "HTMLModel",
      "state": {
       "layout": "IPY_MODEL_fcb16610d2764532818cbbbb7d79ce6b",
       "style": "IPY_MODEL_c6a4cd45a1dc48c6b018cf93be2e93ce",
       "value": "<h5>Status</h5>"
      }
     },
     "f1bd36fb4a084689b99871bb81d83faa": {
      "model_module": "@jupyter-widgets/base",
      "model_module_version": "1.2.0",
      "model_name": "LayoutModel",
      "state": {
       "width": "70px"
      }
     },
     "f6ae20b52154490a992e8f35bc628571": {
      "model_module": "@jupyter-widgets/controls",
      "model_module_version": "1.5.0",
      "model_name": "HTMLModel",
      "state": {
       "layout": "IPY_MODEL_7ceac2bc5afa4dc2b4c57e164f3fbdaf",
       "style": "IPY_MODEL_b2cb7f70edec4f92a4624571b69a11f7",
       "value": "<h5>Backend</h5>"
      }
     },
     "f914c521d4c24ed28aa78947335c0911": {
      "model_module": "@jupyter-widgets/controls",
      "model_module_version": "1.5.0",
      "model_name": "HTMLModel",
      "state": {
       "layout": "IPY_MODEL_937adb1980624ecb8a3da9cc84ef3cfc",
       "style": "IPY_MODEL_4b5f09a278a147da8ea8647bb9e2c6f8",
       "value": "<h5>Job ID</h5>"
      }
     },
     "fcb16610d2764532818cbbbb7d79ce6b": {
      "model_module": "@jupyter-widgets/base",
      "model_module_version": "1.2.0",
      "model_name": "LayoutModel",
      "state": {
       "width": "95px"
      }
     }
    },
    "version_major": 2,
    "version_minor": 0
   }
  }
 },
 "nbformat": 4,
 "nbformat_minor": 5
}
